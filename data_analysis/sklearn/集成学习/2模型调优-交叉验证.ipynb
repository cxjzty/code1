{
 "cells": [
  {
   "cell_type": "code",
   "execution_count": 3,
   "metadata": {
    "collapsed": true
   },
   "outputs": [],
   "source": [
    "import pandas  as pd\n",
    "import numpy as np\n",
    "from  sklearn import model_selection\n",
    "from  sklearn  import datasets\n",
    "from sklearn.cross_validation import  train_test_split  #切割\n",
    "from sklearn.neighbors  import KNeighborsClassifier #KNN\n",
    "from  sklearn.cross_validation import cross_val_score  #交叉验证"
   ]
  },
  {
   "cell_type": "code",
   "execution_count": 4,
   "metadata": {},
   "outputs": [
    {
     "data": {
      "text/plain": [
       "{'DESCR': 'Iris Plants Database\\n====================\\n\\nNotes\\n-----\\nData Set Characteristics:\\n    :Number of Instances: 150 (50 in each of three classes)\\n    :Number of Attributes: 4 numeric, predictive attributes and the class\\n    :Attribute Information:\\n        - sepal length in cm\\n        - sepal width in cm\\n        - petal length in cm\\n        - petal width in cm\\n        - class:\\n                - Iris-Setosa\\n                - Iris-Versicolour\\n                - Iris-Virginica\\n    :Summary Statistics:\\n\\n    ============== ==== ==== ======= ===== ====================\\n                    Min  Max   Mean    SD   Class Correlation\\n    ============== ==== ==== ======= ===== ====================\\n    sepal length:   4.3  7.9   5.84   0.83    0.7826\\n    sepal width:    2.0  4.4   3.05   0.43   -0.4194\\n    petal length:   1.0  6.9   3.76   1.76    0.9490  (high!)\\n    petal width:    0.1  2.5   1.20  0.76     0.9565  (high!)\\n    ============== ==== ==== ======= ===== ====================\\n\\n    :Missing Attribute Values: None\\n    :Class Distribution: 33.3% for each of 3 classes.\\n    :Creator: R.A. Fisher\\n    :Donor: Michael Marshall (MARSHALL%PLU@io.arc.nasa.gov)\\n    :Date: July, 1988\\n\\nThis is a copy of UCI ML iris datasets.\\nhttp://archive.ics.uci.edu/ml/datasets/Iris\\n\\nThe famous Iris database, first used by Sir R.A Fisher\\n\\nThis is perhaps the best known database to be found in the\\npattern recognition literature.  Fisher\\'s paper is a classic in the field and\\nis referenced frequently to this day.  (See Duda & Hart, for example.)  The\\ndata set contains 3 classes of 50 instances each, where each class refers to a\\ntype of iris plant.  One class is linearly separable from the other 2; the\\nlatter are NOT linearly separable from each other.\\n\\nReferences\\n----------\\n   - Fisher,R.A. \"The use of multiple measurements in taxonomic problems\"\\n     Annual Eugenics, 7, Part II, 179-188 (1936); also in \"Contributions to\\n     Mathematical Statistics\" (John Wiley, NY, 1950).\\n   - Duda,R.O., & Hart,P.E. (1973) Pattern Classification and Scene Analysis.\\n     (Q327.D83) John Wiley & Sons.  ISBN 0-471-22361-1.  See page 218.\\n   - Dasarathy, B.V. (1980) \"Nosing Around the Neighborhood: A New System\\n     Structure and Classification Rule for Recognition in Partially Exposed\\n     Environments\".  IEEE Transactions on Pattern Analysis and Machine\\n     Intelligence, Vol. PAMI-2, No. 1, 67-71.\\n   - Gates, G.W. (1972) \"The Reduced Nearest Neighbor Rule\".  IEEE Transactions\\n     on Information Theory, May 1972, 431-433.\\n   - See also: 1988 MLC Proceedings, 54-64.  Cheeseman et al\"s AUTOCLASS II\\n     conceptual clustering system finds 3 classes in the data.\\n   - Many, many more ...\\n',\n 'data': array([[ 5.1,  3.5,  1.4,  0.2],\n        [ 4.9,  3. ,  1.4,  0.2],\n        [ 4.7,  3.2,  1.3,  0.2],\n        [ 4.6,  3.1,  1.5,  0.2],\n        [ 5. ,  3.6,  1.4,  0.2],\n        [ 5.4,  3.9,  1.7,  0.4],\n        [ 4.6,  3.4,  1.4,  0.3],\n        [ 5. ,  3.4,  1.5,  0.2],\n        [ 4.4,  2.9,  1.4,  0.2],\n        [ 4.9,  3.1,  1.5,  0.1],\n        [ 5.4,  3.7,  1.5,  0.2],\n        [ 4.8,  3.4,  1.6,  0.2],\n        [ 4.8,  3. ,  1.4,  0.1],\n        [ 4.3,  3. ,  1.1,  0.1],\n        [ 5.8,  4. ,  1.2,  0.2],\n        [ 5.7,  4.4,  1.5,  0.4],\n        [ 5.4,  3.9,  1.3,  0.4],\n        [ 5.1,  3.5,  1.4,  0.3],\n        [ 5.7,  3.8,  1.7,  0.3],\n        [ 5.1,  3.8,  1.5,  0.3],\n        [ 5.4,  3.4,  1.7,  0.2],\n        [ 5.1,  3.7,  1.5,  0.4],\n        [ 4.6,  3.6,  1. ,  0.2],\n        [ 5.1,  3.3,  1.7,  0.5],\n        [ 4.8,  3.4,  1.9,  0.2],\n        [ 5. ,  3. ,  1.6,  0.2],\n        [ 5. ,  3.4,  1.6,  0.4],\n        [ 5.2,  3.5,  1.5,  0.2],\n        [ 5.2,  3.4,  1.4,  0.2],\n        [ 4.7,  3.2,  1.6,  0.2],\n        [ 4.8,  3.1,  1.6,  0.2],\n        [ 5.4,  3.4,  1.5,  0.4],\n        [ 5.2,  4.1,  1.5,  0.1],\n        [ 5.5,  4.2,  1.4,  0.2],\n        [ 4.9,  3.1,  1.5,  0.1],\n        [ 5. ,  3.2,  1.2,  0.2],\n        [ 5.5,  3.5,  1.3,  0.2],\n        [ 4.9,  3.1,  1.5,  0.1],\n        [ 4.4,  3. ,  1.3,  0.2],\n        [ 5.1,  3.4,  1.5,  0.2],\n        [ 5. ,  3.5,  1.3,  0.3],\n        [ 4.5,  2.3,  1.3,  0.3],\n        [ 4.4,  3.2,  1.3,  0.2],\n        [ 5. ,  3.5,  1.6,  0.6],\n        [ 5.1,  3.8,  1.9,  0.4],\n        [ 4.8,  3. ,  1.4,  0.3],\n        [ 5.1,  3.8,  1.6,  0.2],\n        [ 4.6,  3.2,  1.4,  0.2],\n        [ 5.3,  3.7,  1.5,  0.2],\n        [ 5. ,  3.3,  1.4,  0.2],\n        [ 7. ,  3.2,  4.7,  1.4],\n        [ 6.4,  3.2,  4.5,  1.5],\n        [ 6.9,  3.1,  4.9,  1.5],\n        [ 5.5,  2.3,  4. ,  1.3],\n        [ 6.5,  2.8,  4.6,  1.5],\n        [ 5.7,  2.8,  4.5,  1.3],\n        [ 6.3,  3.3,  4.7,  1.6],\n        [ 4.9,  2.4,  3.3,  1. ],\n        [ 6.6,  2.9,  4.6,  1.3],\n        [ 5.2,  2.7,  3.9,  1.4],\n        [ 5. ,  2. ,  3.5,  1. ],\n        [ 5.9,  3. ,  4.2,  1.5],\n        [ 6. ,  2.2,  4. ,  1. ],\n        [ 6.1,  2.9,  4.7,  1.4],\n        [ 5.6,  2.9,  3.6,  1.3],\n        [ 6.7,  3.1,  4.4,  1.4],\n        [ 5.6,  3. ,  4.5,  1.5],\n        [ 5.8,  2.7,  4.1,  1. ],\n        [ 6.2,  2.2,  4.5,  1.5],\n        [ 5.6,  2.5,  3.9,  1.1],\n        [ 5.9,  3.2,  4.8,  1.8],\n        [ 6.1,  2.8,  4. ,  1.3],\n        [ 6.3,  2.5,  4.9,  1.5],\n        [ 6.1,  2.8,  4.7,  1.2],\n        [ 6.4,  2.9,  4.3,  1.3],\n        [ 6.6,  3. ,  4.4,  1.4],\n        [ 6.8,  2.8,  4.8,  1.4],\n        [ 6.7,  3. ,  5. ,  1.7],\n        [ 6. ,  2.9,  4.5,  1.5],\n        [ 5.7,  2.6,  3.5,  1. ],\n        [ 5.5,  2.4,  3.8,  1.1],\n        [ 5.5,  2.4,  3.7,  1. ],\n        [ 5.8,  2.7,  3.9,  1.2],\n        [ 6. ,  2.7,  5.1,  1.6],\n        [ 5.4,  3. ,  4.5,  1.5],\n        [ 6. ,  3.4,  4.5,  1.6],\n        [ 6.7,  3.1,  4.7,  1.5],\n        [ 6.3,  2.3,  4.4,  1.3],\n        [ 5.6,  3. ,  4.1,  1.3],\n        [ 5.5,  2.5,  4. ,  1.3],\n        [ 5.5,  2.6,  4.4,  1.2],\n        [ 6.1,  3. ,  4.6,  1.4],\n        [ 5.8,  2.6,  4. ,  1.2],\n        [ 5. ,  2.3,  3.3,  1. ],\n        [ 5.6,  2.7,  4.2,  1.3],\n        [ 5.7,  3. ,  4.2,  1.2],\n        [ 5.7,  2.9,  4.2,  1.3],\n        [ 6.2,  2.9,  4.3,  1.3],\n        [ 5.1,  2.5,  3. ,  1.1],\n        [ 5.7,  2.8,  4.1,  1.3],\n        [ 6.3,  3.3,  6. ,  2.5],\n        [ 5.8,  2.7,  5.1,  1.9],\n        [ 7.1,  3. ,  5.9,  2.1],\n        [ 6.3,  2.9,  5.6,  1.8],\n        [ 6.5,  3. ,  5.8,  2.2],\n        [ 7.6,  3. ,  6.6,  2.1],\n        [ 4.9,  2.5,  4.5,  1.7],\n        [ 7.3,  2.9,  6.3,  1.8],\n        [ 6.7,  2.5,  5.8,  1.8],\n        [ 7.2,  3.6,  6.1,  2.5],\n        [ 6.5,  3.2,  5.1,  2. ],\n        [ 6.4,  2.7,  5.3,  1.9],\n        [ 6.8,  3. ,  5.5,  2.1],\n        [ 5.7,  2.5,  5. ,  2. ],\n        [ 5.8,  2.8,  5.1,  2.4],\n        [ 6.4,  3.2,  5.3,  2.3],\n        [ 6.5,  3. ,  5.5,  1.8],\n        [ 7.7,  3.8,  6.7,  2.2],\n        [ 7.7,  2.6,  6.9,  2.3],\n        [ 6. ,  2.2,  5. ,  1.5],\n        [ 6.9,  3.2,  5.7,  2.3],\n        [ 5.6,  2.8,  4.9,  2. ],\n        [ 7.7,  2.8,  6.7,  2. ],\n        [ 6.3,  2.7,  4.9,  1.8],\n        [ 6.7,  3.3,  5.7,  2.1],\n        [ 7.2,  3.2,  6. ,  1.8],\n        [ 6.2,  2.8,  4.8,  1.8],\n        [ 6.1,  3. ,  4.9,  1.8],\n        [ 6.4,  2.8,  5.6,  2.1],\n        [ 7.2,  3. ,  5.8,  1.6],\n        [ 7.4,  2.8,  6.1,  1.9],\n        [ 7.9,  3.8,  6.4,  2. ],\n        [ 6.4,  2.8,  5.6,  2.2],\n        [ 6.3,  2.8,  5.1,  1.5],\n        [ 6.1,  2.6,  5.6,  1.4],\n        [ 7.7,  3. ,  6.1,  2.3],\n        [ 6.3,  3.4,  5.6,  2.4],\n        [ 6.4,  3.1,  5.5,  1.8],\n        [ 6. ,  3. ,  4.8,  1.8],\n        [ 6.9,  3.1,  5.4,  2.1],\n        [ 6.7,  3.1,  5.6,  2.4],\n        [ 6.9,  3.1,  5.1,  2.3],\n        [ 5.8,  2.7,  5.1,  1.9],\n        [ 6.8,  3.2,  5.9,  2.3],\n        [ 6.7,  3.3,  5.7,  2.5],\n        [ 6.7,  3. ,  5.2,  2.3],\n        [ 6.3,  2.5,  5. ,  1.9],\n        [ 6.5,  3. ,  5.2,  2. ],\n        [ 6.2,  3.4,  5.4,  2.3],\n        [ 5.9,  3. ,  5.1,  1.8]]),\n 'feature_names': ['sepal length (cm)',\n  'sepal width (cm)',\n  'petal length (cm)',\n  'petal width (cm)'],\n 'target': array([0, 0, 0, 0, 0, 0, 0, 0, 0, 0, 0, 0, 0, 0, 0, 0, 0, 0, 0, 0, 0, 0, 0,\n        0, 0, 0, 0, 0, 0, 0, 0, 0, 0, 0, 0, 0, 0, 0, 0, 0, 0, 0, 0, 0, 0, 0,\n        0, 0, 0, 0, 1, 1, 1, 1, 1, 1, 1, 1, 1, 1, 1, 1, 1, 1, 1, 1, 1, 1, 1,\n        1, 1, 1, 1, 1, 1, 1, 1, 1, 1, 1, 1, 1, 1, 1, 1, 1, 1, 1, 1, 1, 1, 1,\n        1, 1, 1, 1, 1, 1, 1, 1, 2, 2, 2, 2, 2, 2, 2, 2, 2, 2, 2, 2, 2, 2, 2,\n        2, 2, 2, 2, 2, 2, 2, 2, 2, 2, 2, 2, 2, 2, 2, 2, 2, 2, 2, 2, 2, 2, 2,\n        2, 2, 2, 2, 2, 2, 2, 2, 2, 2, 2, 2]),\n 'target_names': array(['setosa', 'versicolor', 'virginica'],\n       dtype='<U10')}"
      ]
     },
     "execution_count": 4,
     "metadata": {},
     "output_type": "execute_result"
    }
   ],
   "source": [
    "iris=datasets.load_iris() #载入\n",
    "iris"
   ]
  },
  {
   "cell_type": "code",
   "execution_count": 5,
   "metadata": {},
   "outputs": [],
   "source": [
    "x=iris.data\n",
    "y=iris.target"
   ]
  },
  {
   "cell_type": "code",
   "execution_count": 6,
   "metadata": {},
   "outputs": [
    {
     "data": {
      "text/plain": [
       "array([ 0.96666667,  1.        ,  0.93333333,  0.96666667,  1.        ])"
      ]
     },
     "execution_count": 6,
     "metadata": {},
     "output_type": "execute_result"
    }
   ],
   "source": [
    "knn=KNeighborsClassifier (n_neighbors=5)\n",
    "cross_val_score(knn,x,y ,cv=5,scoring=\"accuracy\") #交叉验证"
   ]
  },
  {
   "cell_type": "code",
   "execution_count": 7,
   "metadata": {},
   "outputs": [],
   "source": [
    "k_range=range(1,30)# n_neighbors=5 z最佳的的n_neighbors"
   ]
  },
  {
   "cell_type": "code",
   "execution_count": 8,
   "metadata": {},
   "outputs": [],
   "source": [
    "k_score=[] #保存每一个准确率"
   ]
  },
  {
   "cell_type": "code",
   "execution_count": 9,
   "metadata": {},
   "outputs": [
    {
     "data": {
      "text/plain": [
       "range(1, 30)"
      ]
     },
     "execution_count": 9,
     "metadata": {},
     "output_type": "execute_result"
    }
   ],
   "source": [
    "for  k   in  k_range:\n",
    "    knn_tmp=KNeighborsClassifier (n_neighbors=k)\n",
    "    scores=cross_val_score(knn_tmp,x,y ,cv=10,scoring=\"accuracy\") #交叉验证\n",
    "    k_score.append((k,scores.mean()))\n",
    "k_range"
   ]
  },
  {
   "cell_type": "code",
   "execution_count": 10,
   "metadata": {},
   "outputs": [
    {
     "data": {
      "text/plain": [
       "[(1, 0.95999999999999996),\n (2, 0.95333333333333337),\n (3, 0.96666666666666656),\n (4, 0.96666666666666656),\n (5, 0.96666666666666679),\n (6, 0.96666666666666679),\n (7, 0.96666666666666679),\n (8, 0.96666666666666679),\n (9, 0.97333333333333338),\n (10, 0.96666666666666679),\n (11, 0.96666666666666679),\n (12, 0.97333333333333338),\n (13, 0.98000000000000009),\n (14, 0.97333333333333338),\n (15, 0.97333333333333338),\n (16, 0.97333333333333338),\n (17, 0.97333333333333338),\n (18, 0.98000000000000009),\n (19, 0.97333333333333338),\n (20, 0.98000000000000009),\n (21, 0.96666666666666656),\n (22, 0.96666666666666656),\n (23, 0.97333333333333338),\n (24, 0.95999999999999996),\n (25, 0.96666666666666656),\n (26, 0.95999999999999996),\n (27, 0.96666666666666656),\n (28, 0.95333333333333337),\n (29, 0.95333333333333337)]"
      ]
     },
     "execution_count": 10,
     "metadata": {},
     "output_type": "execute_result"
    }
   ],
   "source": [
    "k_score"
   ]
  },
  {
   "cell_type": "code",
   "execution_count": 11,
   "metadata": {},
   "outputs": [],
   "source": [
    "k_score.sort(key= lambda  x:x[1] ,reverse=True)"
   ]
  },
  {
   "cell_type": "code",
   "execution_count": 12,
   "metadata": {},
   "outputs": [
    {
     "data": {
      "text/plain": [
       "[(13, 0.98000000000000009),\n (18, 0.98000000000000009),\n (20, 0.98000000000000009),\n (9, 0.97333333333333338),\n (12, 0.97333333333333338),\n (14, 0.97333333333333338),\n (15, 0.97333333333333338),\n (16, 0.97333333333333338),\n (17, 0.97333333333333338),\n (19, 0.97333333333333338),\n (23, 0.97333333333333338),\n (5, 0.96666666666666679),\n (6, 0.96666666666666679),\n (7, 0.96666666666666679),\n (8, 0.96666666666666679),\n (10, 0.96666666666666679),\n (11, 0.96666666666666679),\n (3, 0.96666666666666656),\n (4, 0.96666666666666656),\n (21, 0.96666666666666656),\n (22, 0.96666666666666656),\n (25, 0.96666666666666656),\n (27, 0.96666666666666656),\n (1, 0.95999999999999996),\n (24, 0.95999999999999996),\n (26, 0.95999999999999996),\n (2, 0.95333333333333337),\n (28, 0.95333333333333337),\n (29, 0.95333333333333337)]"
      ]
     },
     "execution_count": 12,
     "metadata": {},
     "output_type": "execute_result"
    }
   ],
   "source": [
    "k_score"
   ]
  },
  {
   "cell_type": "code",
   "execution_count": 13,
   "metadata": {},
   "outputs": [
    {
     "data": {
      "text/plain": [
       "(13, 0.98000000000000009)"
      ]
     },
     "execution_count": 13,
     "metadata": {},
     "output_type": "execute_result"
    }
   ],
   "source": [
    "k_score[0]"
   ]
  },
  {
   "cell_type": "code",
   "execution_count": 14,
   "metadata": {},
   "outputs": [
    {
     "data": {
      "text/plain": [
       "13"
      ]
     },
     "execution_count": 14,
     "metadata": {},
     "output_type": "execute_result"
    }
   ],
   "source": [
    "k_score[0][0]"
   ]
  },
  {
   "cell_type": "code",
   "execution_count": 15,
   "metadata": {},
   "outputs": [],
   "source": [
    "import  matplotlib.pyplot as plt\n",
    "%matplotlib inline"
   ]
  },
  {
   "cell_type": "code",
   "execution_count": 17,
   "metadata": {},
   "outputs": [
    {
     "data": {
      "text/plain": [
       "[(13, 0.98000000000000009),\n (18, 0.98000000000000009),\n (20, 0.98000000000000009),\n (9, 0.97333333333333338),\n (12, 0.97333333333333338),\n (14, 0.97333333333333338),\n (15, 0.97333333333333338),\n (16, 0.97333333333333338),\n (17, 0.97333333333333338),\n (19, 0.97333333333333338),\n (23, 0.97333333333333338),\n (5, 0.96666666666666679),\n (6, 0.96666666666666679),\n (7, 0.96666666666666679),\n (8, 0.96666666666666679),\n (10, 0.96666666666666679),\n (11, 0.96666666666666679),\n (3, 0.96666666666666656),\n (4, 0.96666666666666656),\n (21, 0.96666666666666656),\n (22, 0.96666666666666656),\n (25, 0.96666666666666656),\n (27, 0.96666666666666656),\n (1, 0.95999999999999996),\n (24, 0.95999999999999996),\n (26, 0.95999999999999996),\n (2, 0.95333333333333337),\n (28, 0.95333333333333337),\n (29, 0.95333333333333337)]"
      ]
     },
     "execution_count": 17,
     "metadata": {},
     "output_type": "execute_result"
    }
   ],
   "source": [
    "k_score"
   ]
  },
  {
   "cell_type": "code",
   "execution_count": 18,
   "metadata": {},
   "outputs": [],
   "source": [
    "list1=[]\n",
    "list2=[]\n",
    "for  line  in k_score:\n",
    "    list1.append(line[0])\n",
    "    list2.append(line[1])"
   ]
  },
  {
   "cell_type": "code",
   "execution_count": 19,
   "metadata": {},
   "outputs": [
    {
     "data": {
      "text/plain": [
       "[13,\n 18,\n 20,\n 9,\n 12,\n 14,\n 15,\n 16,\n 17,\n 19,\n 23,\n 5,\n 6,\n 7,\n 8,\n 10,\n 11,\n 3,\n 4,\n 21,\n 22,\n 25,\n 27,\n 1,\n 24,\n 26,\n 2,\n 28,\n 29]"
      ]
     },
     "execution_count": 19,
     "metadata": {},
     "output_type": "execute_result"
    }
   ],
   "source": [
    "list1"
   ]
  },
  {
   "cell_type": "code",
   "execution_count": 20,
   "metadata": {},
   "outputs": [
    {
     "data": {
      "text/plain": [
       "[0.98000000000000009,\n 0.98000000000000009,\n 0.98000000000000009,\n 0.97333333333333338,\n 0.97333333333333338,\n 0.97333333333333338,\n 0.97333333333333338,\n 0.97333333333333338,\n 0.97333333333333338,\n 0.97333333333333338,\n 0.97333333333333338,\n 0.96666666666666679,\n 0.96666666666666679,\n 0.96666666666666679,\n 0.96666666666666679,\n 0.96666666666666679,\n 0.96666666666666679,\n 0.96666666666666656,\n 0.96666666666666656,\n 0.96666666666666656,\n 0.96666666666666656,\n 0.96666666666666656,\n 0.96666666666666656,\n 0.95999999999999996,\n 0.95999999999999996,\n 0.95999999999999996,\n 0.95333333333333337,\n 0.95333333333333337,\n 0.95333333333333337]"
      ]
     },
     "execution_count": 20,
     "metadata": {},
     "output_type": "execute_result"
    }
   ],
   "source": [
    "list2"
   ]
  },
  {
   "cell_type": "code",
   "execution_count": 22,
   "metadata": {},
   "outputs": [
    {
     "data": {
      "image/png": "[encoded data removed]",
      "text/plain": [
       "<matplotlib.figure.Figure at 0x4f36c4fac8>"
      ]
     },
     "metadata": {},
     "output_type": "display_data"
    }
   ],
   "source": [
    "plt.plot(list2,list1)\n",
    "plt.show()"
   ]
  },
  {
   "cell_type": "code",
   "execution_count": 23,
   "metadata": {},
   "outputs": [
    {
     "data": {
      "text/plain": [
       "{'n_neighbors': [1,\n  2,\n  3,\n  4,\n  5,\n  6,\n  7,\n  8,\n  9,\n  10,\n  11,\n  12,\n  13,\n  14,\n  15,\n  16,\n  17,\n  18,\n  19,\n  20,\n  21,\n  22,\n  23,\n  24,\n  25,\n  26,\n  27,\n  28,\n  29]}"
      ]
     },
     "execution_count": 23,
     "metadata": {},
     "output_type": "execute_result"
    }
   ],
   "source": [
    "param_grid = {'n_neighbors': [x for  x in range(1,30)]}\n",
    "param_grid"
   ]
  },
  {
   "cell_type": "code",
   "execution_count": 24,
   "metadata": {},
   "outputs": [
    {
     "name": "stdout",
     "output_type": "stream",
     "text": [
      "Fitting 3 folds for each of 29 candidates, totalling 87 fits\n"
     ]
    },
    {
     "name": "stderr",
     "output_type": "stream",
     "text": [
      "c:\\users\\tsinghua-yincheng\\appdata\\local\\programs\\python\\python36\\lib\\site-packages\\sklearn\\grid_search.py:42: DeprecationWarning: This module was deprecated in version 0.18 in favor of the model_selection module into which all the refactored classes and functions are moved. This module will be removed in 0.20.\n  DeprecationWarning)\n[Parallel(n_jobs=1)]: Done  87 out of  87 | elapsed:    0.1s finished\n"
     ]
    },
    {
     "data": {
      "text/plain": [
       "GridSearchCV(cv=None, error_score='raise',\n       estimator=KNeighborsClassifier(algorithm='auto', leaf_size=30, metric='minkowski',\n           metric_params=None, n_jobs=1, n_neighbors=5, p=2,\n           weights='uniform'),\n       fit_params={}, iid=True, n_jobs=1,\n       param_grid={'n_neighbors': [1, 2, 3, 4, 5, 6, 7, 8, 9, 10, 11, 12, 13, 14, 15, 16, 17, 18, 19, 20, 21, 22, 23, 24, 25, 26, 27, 28, 29]},\n       pre_dispatch='2*n_jobs', refit=True, scoring=None, verbose=1)"
      ]
     },
     "execution_count": 24,
     "metadata": {},
     "output_type": "execute_result"
    }
   ],
   "source": [
    "from sklearn.grid_search import GridSearchCV\n",
    "grid_search = GridSearchCV(knn, param_grid, n_jobs=1, verbose=1)\n",
    "grid_search.fit(x, y)"
   ]
  },
  {
   "cell_type": "code",
   "execution_count": 32,
   "metadata": {},
   "outputs": [],
   "source": [
    "best_parameters = grid_search.best_estimator_.get_params()"
   ]
  },
  {
   "cell_type": "code",
   "execution_count": 37,
   "metadata": {},
   "outputs": [
    {
     "data": {
      "text/plain": [
       "{'n_neighbors': 5}"
      ]
     },
     "execution_count": 37,
     "metadata": {},
     "output_type": "execute_result"
    }
   ],
   "source": [
    "best_parameters = grid_search.best_params_\n",
    "best_parameters"
   ]
  },
  {
   "cell_type": "code",
   "execution_count": 36,
   "metadata": {},
   "outputs": [
    {
     "data": {
      "text/plain": [
       "5"
      ]
     },
     "execution_count": 36,
     "metadata": {},
     "output_type": "execute_result"
    }
   ],
   "source": [
    "best_parameters[\"n_neighbors\"]"
   ]
  },
  {
   "cell_type": "code",
   "execution_count": null,
   "metadata": {},
   "outputs": [],
   "source": [
    ""
   ]
  }
 ],
 "metadata": {
  "kernelspec": {
   "display_name": "Python 2",
   "language": "python",
   "name": "python2"
  },
  "language_info": {
   "codemirror_mode": {
    "name": "ipython",
    "version": 2.0
   },
   "file_extension": ".py",
   "mimetype": "text/x-python",
   "name": "python",
   "nbconvert_exporter": "python",
   "pygments_lexer": "ipython2",
   "version": "2.7.6"
  }
 },
 "nbformat": 4,
 "nbformat_minor": 0
}
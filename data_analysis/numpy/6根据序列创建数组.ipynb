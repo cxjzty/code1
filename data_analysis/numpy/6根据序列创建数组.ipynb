{
 "cells": [
  {
   "cell_type": "code",
   "execution_count": 1,
   "metadata": {
    "collapsed": true
   },
   "outputs": [],
   "source": [
    "import numpy as np\n",
    "x = np.arange(5)  #创建数组序列0-5"
   ]
  },
  {
   "cell_type": "code",
   "execution_count": 2,
   "metadata": {},
   "outputs": [
    {
     "data": {
      "text/plain": [
       "array([0, 1, 2, 3, 4])"
      ]
     },
     "execution_count": 2,
     "metadata": {},
     "output_type": "execute_result"
    }
   ],
   "source": [
    "x"
   ]
  },
  {
   "cell_type": "code",
   "execution_count": 3,
   "metadata": {},
   "outputs": [
    {
     "data": {
      "text/plain": [
       "array([1, 2, 3, 4, 5, 6, 7, 8, 9])"
      ]
     },
     "execution_count": 3,
     "metadata": {},
     "output_type": "execute_result"
    }
   ],
   "source": [
    "x = np.arange(1,10) #创建数组1-9\n",
    "x"
   ]
  },
  {
   "cell_type": "code",
   "execution_count": 4,
   "metadata": {},
   "outputs": [
    {
     "data": {
      "text/plain": [
       "array([ 1,  4,  7, 10, 13, 16, 19, 22, 25, 28, 31, 34, 37, 40, 43, 46, 49,\n       52, 55, 58, 61, 64, 67, 70, 73, 76, 79, 82, 85, 88, 91, 94, 97])"
      ]
     },
     "execution_count": 4,
     "metadata": {},
     "output_type": "execute_result"
    }
   ],
   "source": [
    "x = np.arange(1,100,3)#创建数组1-100，3为步长\n",
    "x"
   ]
  },
  {
   "cell_type": "code",
   "execution_count": 5,
   "metadata": {},
   "outputs": [
    {
     "data": {
      "text/plain": [
       "array([  1.,   4.,   7.,  10.,  13.,  16.,  19.,  22.,  25.,  28.,  31.,\n        34.,  37.,  40.,  43.,  46.,  49.,  52.,  55.,  58.,  61.,  64.,\n        67.,  70.,  73.,  76.,  79.,  82.,  85.,  88.,  91.,  94.,  97.])"
      ]
     },
     "execution_count": 5,
     "metadata": {},
     "output_type": "execute_result"
    }
   ],
   "source": [
    "x = np.arange(1,100,3,dtype=np.float)#创建数组1-100，3为步长 ,实数\n",
    "x"
   ]
  },
  {
   "cell_type": "code",
   "execution_count": 6,
   "metadata": {},
   "outputs": [
    {
     "name": "stdout",
     "output_type": "stream",
     "text": [
      "[ 10.          11.11111111  12.22222222  13.33333333  14.44444444\n  15.55555556  16.66666667  17.77777778  18.88888889  20.        ]\n"
     ]
    }
   ],
   "source": [
    "y=np.linspace(10,20,10)\n",
    "print(y)"
   ]
  },
  {
   "cell_type": "code",
   "execution_count": 7,
   "metadata": {},
   "outputs": [
    {
     "name": "stdout",
     "output_type": "stream",
     "text": [
      "[ 10.  20.]\n"
     ]
    }
   ],
   "source": [
    "y=np.linspace(10,20,2)#此函数类似于`arange()`函数。 在此函数中，指定了范围之间的均匀间隔数量，而不是步长\n",
    "print(y)"
   ]
  },
  {
   "cell_type": "code",
   "execution_count": 8,
   "metadata": {},
   "outputs": [
    {
     "name": "stdout",
     "output_type": "stream",
     "text": [
      "[ 10.   12.5  15.   17.5  20. ]\n"
     ]
    }
   ],
   "source": [
    "y=np.linspace(10,20,5)\n",
    "print(y)"
   ]
  },
  {
   "cell_type": "code",
   "execution_count": 9,
   "metadata": {},
   "outputs": [
    {
     "name": "stdout",
     "output_type": "stream",
     "text": [
      "[ 10.  12.  14.  16.  18.]\n"
     ]
    }
   ],
   "source": [
    "y=np.linspace(10,20,5,endpoint=False) #是否包含最后一个\n",
    "print(y)"
   ]
  },
  {
   "cell_type": "code",
   "execution_count": 10,
   "metadata": {},
   "outputs": [
    {
     "name": "stdout",
     "output_type": "stream",
     "text": [
      "(array([ 10.,  12.,  14.,  16.,  18.]), 2.0)\n"
     ]
    }
   ],
   "source": [
    "y=np.linspace(10,20,5,endpoint=False,retstep=True) #是否包含最后一个\n",
    "print(y) #retstep插入切割的步长"
   ]
  },
  {
   "cell_type": "code",
   "execution_count": 21,
   "metadata": {},
   "outputs": [
    {
     "data": {
      "text/plain": [
       "array([  10.       ,   31.6227766,  100.       ])"
      ]
     },
     "execution_count": 21,
     "metadata": {},
     "output_type": "execute_result"
    }
   ],
   "source": [
    "z=np.logspace(1.0,2.0,num=3)   #其中包含在对数刻度上均匀分布的数字。 刻度的开始和结束端点是某个底数的幂，通常为 10。\n",
    "z#默认的底数是10"
   ]
  },
  {
   "cell_type": "code",
   "execution_count": 24,
   "metadata": {},
   "outputs": [
    {
     "data": {
      "text/plain": [
       "array([  5.        ,   5.441992  ,   5.92305539,   6.44664402,\n         7.01651704,   7.63676592,   8.31184382,   9.04659752,\n         9.84630227,  10.71669965,  11.66403876,  12.69512113,\n        13.81734953,  15.03878113,  16.36818533,  17.81510674,\n        19.38993369,  21.10397281,  22.96953026,  25.        ])"
      ]
     },
     "execution_count": 24,
     "metadata": {},
     "output_type": "execute_result"
    }
   ],
   "source": [
    "z=np.logspace(1.0,2.0,num=20,base=5)   #其中包含在对数刻度上均匀分布的数字。 刻度的开始和结束端点是某个底数的幂，通常为 10。\n",
    "z#默认的底数是10, 从5^1  发展到5^2，平方的刻度3，指数级增长"
   ]
  },
  {
   "cell_type": "code",
   "execution_count": 25,
   "metadata": {},
   "outputs": [],
   "source": [
    "z=np.logspace(1,10,num=10,base=2) # 2^1  --->2^10\n",
    "'''\n",
    "`logspace`函数的输出由以下参数决定：\n",
    "\n",
    "| 序号 | 参数及描述 |\n",
    "| --- | --- |\n",
    "| 1. | `start` 起始值是`base ** start` |\n",
    "| 2. | `stop` 终止值是`base ** stop` |\n",
    "| 3. | `num` 范围内的数值数量，默认为`50` |\n",
    "| 4. | `endpoint` 如果为`true`，终止值包含在输出数组当中 |\n",
    "| 5. | `base` 对数空间的底数，默认为`10` |\n",
    "| 6. | `dtype` 输出数组的数据类型，如果没有提供，则取决于其它参数 |\n",
    "'''"
   ]
  },
  {
   "cell_type": "code",
   "execution_count": 26,
   "metadata": {},
   "outputs": [
    {
     "data": {
      "text/plain": [
       "array([    2.,     4.,     8.,    16.,    32.,    64.,   128.,   256.,\n         512.,  1024.])"
      ]
     },
     "execution_count": 26,
     "metadata": {},
     "output_type": "execute_result"
    }
   ],
   "source": [
    "z"
   ]
  },
  {
   "cell_type": "code",
   "execution_count": null,
   "metadata": {},
   "outputs": [],
   "source": [
    ""
   ]
  }
 ],
 "metadata": {
  "kernelspec": {
   "display_name": "Python 2",
   "language": "python",
   "name": "python2"
  },
  "language_info": {
   "codemirror_mode": {
    "name": "ipython",
    "version": 2.0
   },
   "file_extension": ".py",
   "mimetype": "text/x-python",
   "name": "python",
   "nbconvert_exporter": "python",
   "pygments_lexer": "ipython2",
   "version": "2.7.6"
  }
 },
 "nbformat": 4,
 "nbformat_minor": 0
}
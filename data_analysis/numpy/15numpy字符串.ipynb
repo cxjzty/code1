{
 "cells": [
  {
   "cell_type": "code",
   "execution_count": 1,
   "metadata": {
    "collapsed": true
   },
   "outputs": [
    {
     "name": "stdout",
     "output_type": "stream",
     "text": [
      "['hellobaby']\n"
     ]
    }
   ],
   "source": [
    "import numpy as np\n",
    "print(np.char.add([\"hello\"],[\"baby\"]))"
   ]
  },
  {
   "cell_type": "code",
   "execution_count": 2,
   "metadata": {},
   "outputs": [
    {
     "name": "stdout",
     "output_type": "stream",
     "text": [
      "['hellobaby' 'AB']\n"
     ]
    }
   ],
   "source": [
    "print(np.char.add([\"hello\",\"A\"],[\"baby\",\"B\"])) #字符串数组拼接"
   ]
  },
  {
   "cell_type": "code",
   "execution_count": 4,
   "metadata": {},
   "outputs": [
    {
     "name": "stdout",
     "output_type": "stream",
     "text": [
      "nimei nimei nimei \n"
     ]
    }
   ],
   "source": [
    "print(np.char.multiply(\"nimei \",3)) #多个字符串叠加一个字符串"
   ]
  },
  {
   "cell_type": "code",
   "execution_count": 7,
   "metadata": {},
   "outputs": [
    {
     "name": "stdout",
     "output_type": "stream",
     "text": [
      "_________**_________\n"
     ]
    }
   ],
   "source": [
    "print(np.char.center(\"**\",20,fillchar=\"_\")) #字符串填充"
   ]
  },
  {
   "cell_type": "code",
   "execution_count": 8,
   "metadata": {},
   "outputs": [
    {
     "name": "stdout",
     "output_type": "stream",
     "text": [
      "Nimei\n"
     ]
    }
   ],
   "source": [
    "print(np.char.capitalize(\"nimei\")) #返回副本，开头字母大写"
   ]
  },
  {
   "cell_type": "code",
   "execution_count": 10,
   "metadata": {},
   "outputs": [
    {
     "name": "stdout",
     "output_type": "stream",
     "text": [
      "Nimeititle，Hao Are You\n"
     ]
    }
   ],
   "source": [
    "print(np.char.title(\"nimeititle，hao are you\"))#每个单词首字母大写"
   ]
  },
  {
   "cell_type": "code",
   "execution_count": 11,
   "metadata": {},
   "outputs": [
    {
     "name": "stdout",
     "output_type": "stream",
     "text": [
      "av\n"
     ]
    }
   ],
   "source": [
    "print(np.char.lower(\"AV\"))"
   ]
  },
  {
   "cell_type": "code",
   "execution_count": 13,
   "metadata": {},
   "outputs": [
    {
     "name": "stdout",
     "output_type": "stream",
     "text": [
      "AV\n"
     ]
    }
   ],
   "source": [
    "print(np.char.upper(\"av\"))"
   ]
  },
  {
   "cell_type": "code",
   "execution_count": 15,
   "metadata": {},
   "outputs": [
    {
     "name": "stdout",
     "output_type": "stream",
     "text": [
      "['hello ', ' 123213']\n"
     ]
    }
   ],
   "source": [
    "print(np.char.splitlines(\"hello \\n 123213\")) #切割"
   ]
  },
  {
   "cell_type": "code",
   "execution_count": 17,
   "metadata": {},
   "outputs": [
    {
     "name": "stdout",
     "output_type": "stream",
     "text": [
      "['hello ', ' 123213']\n"
     ]
    }
   ],
   "source": [
    "print(np.char.split(\"hello \\n 123213\",sep=\"\\n\"))"
   ]
  },
  {
   "cell_type": "code",
   "execution_count": 18,
   "metadata": {},
   "outputs": [
    {
     "name": "stdout",
     "output_type": "stream",
     "text": [
      "ASD\n"
     ]
    }
   ],
   "source": [
    "print(np.char.strip(\" ASD  \"))"
   ]
  },
  {
   "cell_type": "code",
   "execution_count": 19,
   "metadata": {},
   "outputs": [
    {
     "name": "stdout",
     "output_type": "stream",
     "text": [
      "6\n"
     ]
    }
   ],
   "source": [
    "print(np.char.str_len(\" ASD  \"))"
   ]
  },
  {
   "cell_type": "code",
   "execution_count": 20,
   "metadata": {},
   "outputs": [
    {
     "name": "stdout",
     "output_type": "stream",
     "text": [
      "n:i:m:e:i\n"
     ]
    }
   ],
   "source": [
    "print(np.char.join(\":\",\"nimei\"))"
   ]
  },
  {
   "cell_type": "code",
   "execution_count": 21,
   "metadata": {},
   "outputs": [
    {
     "name": "stdout",
     "output_type": "stream",
     "text": [
      "['n:i:m:e:i' 'n:i:j:i:e']\n"
     ]
    }
   ],
   "source": [
    "print(np.char.join(\":\",[\"nimei\",\"nijie\"])) #切割填充"
   ]
  },
  {
   "cell_type": "code",
   "execution_count": 22,
   "metadata": {},
   "outputs": [
    {
     "name": "stdout",
     "output_type": "stream",
     "text": [
      "['n:i:m:e:i' 'n@i@j@i@e']\n"
     ]
    }
   ],
   "source": [
    "print(np.char.join([\":\",\"@\"],[\"nimei\",\"nijie\"]))"
   ]
  },
  {
   "cell_type": "code",
   "execution_count": 23,
   "metadata": {},
   "outputs": [
    {
     "name": "stdout",
     "output_type": "stream",
     "text": [
      "hello boy\n"
     ]
    }
   ],
   "source": [
    "print(np.char.replace(\"hello baby\",\"baby\",\"boy\"))"
   ]
  },
  {
   "cell_type": "code",
   "execution_count": 24,
   "metadata": {},
   "outputs": [
    {
     "name": "stdout",
     "output_type": "stream",
     "text": [
      "b'\\xe4\\xbd\\xa0\\xe5\\xa6\\xb9'\n"
     ]
    }
   ],
   "source": [
    "print(np.char.encode(\"你妹\",\"utf-8\")) #编码解码"
   ]
  },
  {
   "cell_type": "code",
   "execution_count": 25,
   "metadata": {},
   "outputs": [
    {
     "name": "stdout",
     "output_type": "stream",
     "text": [
      "你妹\n"
     ]
    }
   ],
   "source": [
    "print(np.char.decode(b'\\xe4\\xbd\\xa0\\xe5\\xa6\\xb9',\"utf-8\"))"
   ]
  },
  {
   "cell_type": "code",
   "execution_count": null,
   "metadata": {},
   "outputs": [],
   "source": [
    ""
   ]
  }
 ],
 "metadata": {
  "kernelspec": {
   "display_name": "Python 2",
   "language": "python",
   "name": "python2"
  },
  "language_info": {
   "codemirror_mode": {
    "name": "ipython",
    "version": 2.0
   },
   "file_extension": ".py",
   "mimetype": "text/x-python",
   "name": "python",
   "nbconvert_exporter": "python",
   "pygments_lexer": "ipython2",
   "version": "2.7.6"
  }
 },
 "nbformat": 4,
 "nbformat_minor": 0
}
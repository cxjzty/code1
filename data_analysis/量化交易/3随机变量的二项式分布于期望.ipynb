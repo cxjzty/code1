{
 "cells": [
  {
   "cell_type": "code",
   "execution_count": 3,
   "metadata": {},
   "outputs": [
    {
     "data": {
      "text/plain": [
       "array([51, 51, 46, 56, 58, 55, 53, 43, 58, 48, 54, 54, 49, 49, 43, 48, 45,\n",
       "       53, 54, 54])"
      ]
     },
     "execution_count": 3,
     "metadata": {},
     "output_type": "execute_result"
    }
   ],
   "source": [
    "import  numpy as np\n",
    "np.random.binomial(100,0.5,20) #100次连续操作，其中0.5的概率的随机结果，接近50，20代表过程执行20次，得到20个结果"
   ]
  },
  {
   "cell_type": "code",
   "execution_count": 4,
   "metadata": {},
   "outputs": [
    {
     "data": {
      "text/plain": [
       "array([42, 58, 55, 48, 55])"
      ]
     },
     "execution_count": 4,
     "metadata": {},
     "output_type": "execute_result"
    }
   ],
   "source": [
    "np.random.binomial(100,0.5,5)"
   ]
  },
  {
   "cell_type": "code",
   "execution_count": 5,
   "metadata": {},
   "outputs": [
    {
     "data": {
      "text/plain": [
       "array([5052, 5033, 4997, 5092, 5065])"
      ]
     },
     "execution_count": 5,
     "metadata": {},
     "output_type": "execute_result"
    }
   ],
   "source": [
    "np.random.binomial(10000,0.5,5)"
   ]
  },
  {
   "cell_type": "code",
   "execution_count": 6,
   "metadata": {},
   "outputs": [
    {
     "data": {
      "text/plain": [
       "4.2281632676012532e-10"
      ]
     },
     "execution_count": 6,
     "metadata": {},
     "output_type": "execute_result"
    }
   ],
   "source": [
    "from  scipy  import  stats  #科学计算 scikilearn\n",
    "stats.binom.pmf(20,100,0.5) #100次仍硬币，其中20次朝上的g概率"
   ]
  },
  {
   "cell_type": "code",
   "execution_count": 7,
   "metadata": {},
   "outputs": [
    {
     "data": {
      "text/plain": [
       "0.079589237387178879"
      ]
     },
     "execution_count": 7,
     "metadata": {},
     "output_type": "execute_result"
    }
   ],
   "source": [
    "from  scipy  import  stats  #科学计算 scikilearn\n",
    "stats.binom.pmf(50,100,0.5)"
   ]
  },
  {
   "cell_type": "code",
   "execution_count": 8,
   "metadata": {},
   "outputs": [
    {
     "data": {
      "text/html": [
       "<div>\n",
       "<style>\n",
       "    .dataframe thead tr:only-child th {\n",
       "        text-align: right;\n",
       "    }\n",
       "\n",
       "    .dataframe thead th {\n",
       "        text-align: left;\n",
       "    }\n",
       "\n",
       "    .dataframe tbody tr th {\n",
       "        vertical-align: top;\n",
       "    }\n",
       "</style>\n",
       "<table border=\"1\" class=\"dataframe\">\n",
       "  <thead>\n",
       "    <tr style=\"text-align: right;\">\n",
       "      <th></th>\n",
       "      <th>date</th>\n",
       "      <th>return</th>\n",
       "      <th>sig</th>\n",
       "    </tr>\n",
       "  </thead>\n",
       "  <tbody>\n",
       "    <tr>\n",
       "      <th>0</th>\n",
       "      <td>2014/1/2</td>\n",
       "      <td>-0.3454</td>\n",
       "      <td>0</td>\n",
       "    </tr>\n",
       "    <tr>\n",
       "      <th>1</th>\n",
       "      <td>2014/1/3</td>\n",
       "      <td>-1.3436</td>\n",
       "      <td>0</td>\n",
       "    </tr>\n",
       "    <tr>\n",
       "      <th>2</th>\n",
       "      <td>2014/1/6</td>\n",
       "      <td>-2.2762</td>\n",
       "      <td>0</td>\n",
       "    </tr>\n",
       "    <tr>\n",
       "      <th>3</th>\n",
       "      <td>2014/1/7</td>\n",
       "      <td>-0.0284</td>\n",
       "      <td>0</td>\n",
       "    </tr>\n",
       "    <tr>\n",
       "      <th>4</th>\n",
       "      <td>2014/1/8</td>\n",
       "      <td>0.1747</td>\n",
       "      <td>1</td>\n",
       "    </tr>\n",
       "    <tr>\n",
       "      <th>5</th>\n",
       "      <td>2014/1/9</td>\n",
       "      <td>-0.8783</td>\n",
       "      <td>0</td>\n",
       "    </tr>\n",
       "    <tr>\n",
       "      <th>6</th>\n",
       "      <td>2014/1/10</td>\n",
       "      <td>-0.7817</td>\n",
       "      <td>0</td>\n",
       "    </tr>\n",
       "    <tr>\n",
       "      <th>7</th>\n",
       "      <td>2014/1/13</td>\n",
       "      <td>-0.5067</td>\n",
       "      <td>0</td>\n",
       "    </tr>\n",
       "    <tr>\n",
       "      <th>8</th>\n",
       "      <td>2014/1/14</td>\n",
       "      <td>0.8737</td>\n",
       "      <td>1</td>\n",
       "    </tr>\n",
       "    <tr>\n",
       "      <th>9</th>\n",
       "      <td>2014/1/15</td>\n",
       "      <td>-0.1765</td>\n",
       "      <td>0</td>\n",
       "    </tr>\n",
       "    <tr>\n",
       "      <th>10</th>\n",
       "      <td>2014/1/16</td>\n",
       "      <td>0.1314</td>\n",
       "      <td>1</td>\n",
       "    </tr>\n",
       "    <tr>\n",
       "      <th>11</th>\n",
       "      <td>2014/1/17</td>\n",
       "      <td>-1.5081</td>\n",
       "      <td>0</td>\n",
       "    </tr>\n",
       "    <tr>\n",
       "      <th>12</th>\n",
       "      <td>2014/1/20</td>\n",
       "      <td>-0.5736</td>\n",
       "      <td>0</td>\n",
       "    </tr>\n",
       "    <tr>\n",
       "      <th>13</th>\n",
       "      <td>2014/1/21</td>\n",
       "      <td>0.9888</td>\n",
       "      <td>1</td>\n",
       "    </tr>\n",
       "    <tr>\n",
       "      <th>14</th>\n",
       "      <td>2014/1/22</td>\n",
       "      <td>2.5778</td>\n",
       "      <td>1</td>\n",
       "    </tr>\n",
       "    <tr>\n",
       "      <th>15</th>\n",
       "      <td>2014/1/23</td>\n",
       "      <td>-0.5307</td>\n",
       "      <td>0</td>\n",
       "    </tr>\n",
       "    <tr>\n",
       "      <th>16</th>\n",
       "      <td>2014/1/24</td>\n",
       "      <td>0.6178</td>\n",
       "      <td>1</td>\n",
       "    </tr>\n",
       "    <tr>\n",
       "      <th>17</th>\n",
       "      <td>2014/1/27</td>\n",
       "      <td>-1.3252</td>\n",
       "      <td>0</td>\n",
       "    </tr>\n",
       "    <tr>\n",
       "      <th>18</th>\n",
       "      <td>2014/1/28</td>\n",
       "      <td>0.1776</td>\n",
       "      <td>1</td>\n",
       "    </tr>\n",
       "    <tr>\n",
       "      <th>19</th>\n",
       "      <td>2014/1/29</td>\n",
       "      <td>0.3571</td>\n",
       "      <td>1</td>\n",
       "    </tr>\n",
       "    <tr>\n",
       "      <th>20</th>\n",
       "      <td>2014/1/30</td>\n",
       "      <td>-1.1371</td>\n",
       "      <td>0</td>\n",
       "    </tr>\n",
       "    <tr>\n",
       "      <th>21</th>\n",
       "      <td>2014/2/7</td>\n",
       "      <td>0.4555</td>\n",
       "      <td>1</td>\n",
       "    </tr>\n",
       "    <tr>\n",
       "      <th>22</th>\n",
       "      <td>2014/2/10</td>\n",
       "      <td>2.4882</td>\n",
       "      <td>1</td>\n",
       "    </tr>\n",
       "    <tr>\n",
       "      <th>23</th>\n",
       "      <td>2014/2/11</td>\n",
       "      <td>0.7950</td>\n",
       "      <td>1</td>\n",
       "    </tr>\n",
       "    <tr>\n",
       "      <th>24</th>\n",
       "      <td>2014/2/12</td>\n",
       "      <td>0.2487</td>\n",
       "      <td>1</td>\n",
       "    </tr>\n",
       "    <tr>\n",
       "      <th>25</th>\n",
       "      <td>2014/2/13</td>\n",
       "      <td>-0.5103</td>\n",
       "      <td>0</td>\n",
       "    </tr>\n",
       "    <tr>\n",
       "      <th>26</th>\n",
       "      <td>2014/2/14</td>\n",
       "      <td>0.7028</td>\n",
       "      <td>1</td>\n",
       "    </tr>\n",
       "    <tr>\n",
       "      <th>27</th>\n",
       "      <td>2014/2/17</td>\n",
       "      <td>0.7001</td>\n",
       "      <td>1</td>\n",
       "    </tr>\n",
       "    <tr>\n",
       "      <th>28</th>\n",
       "      <td>2014/2/18</td>\n",
       "      <td>-1.2634</td>\n",
       "      <td>0</td>\n",
       "    </tr>\n",
       "    <tr>\n",
       "      <th>29</th>\n",
       "      <td>2014/2/19</td>\n",
       "      <td>1.1485</td>\n",
       "      <td>1</td>\n",
       "    </tr>\n",
       "    <tr>\n",
       "      <th>...</th>\n",
       "      <td>...</td>\n",
       "      <td>...</td>\n",
       "      <td>...</td>\n",
       "    </tr>\n",
       "    <tr>\n",
       "      <th>215</th>\n",
       "      <td>2014/11/20</td>\n",
       "      <td>-0.0049</td>\n",
       "      <td>0</td>\n",
       "    </tr>\n",
       "    <tr>\n",
       "      <th>216</th>\n",
       "      <td>2014/11/21</td>\n",
       "      <td>1.8271</td>\n",
       "      <td>1</td>\n",
       "    </tr>\n",
       "    <tr>\n",
       "      <th>217</th>\n",
       "      <td>2014/11/24</td>\n",
       "      <td>2.5471</td>\n",
       "      <td>1</td>\n",
       "    </tr>\n",
       "    <tr>\n",
       "      <th>218</th>\n",
       "      <td>2014/11/25</td>\n",
       "      <td>1.3703</td>\n",
       "      <td>1</td>\n",
       "    </tr>\n",
       "    <tr>\n",
       "      <th>219</th>\n",
       "      <td>2014/11/26</td>\n",
       "      <td>1.3948</td>\n",
       "      <td>1</td>\n",
       "    </tr>\n",
       "    <tr>\n",
       "      <th>220</th>\n",
       "      <td>2014/11/27</td>\n",
       "      <td>1.1558</td>\n",
       "      <td>1</td>\n",
       "    </tr>\n",
       "    <tr>\n",
       "      <th>221</th>\n",
       "      <td>2014/11/28</td>\n",
       "      <td>1.9724</td>\n",
       "      <td>1</td>\n",
       "    </tr>\n",
       "    <tr>\n",
       "      <th>222</th>\n",
       "      <td>2014/12/1</td>\n",
       "      <td>0.3914</td>\n",
       "      <td>1</td>\n",
       "    </tr>\n",
       "    <tr>\n",
       "      <th>223</th>\n",
       "      <td>2014/12/2</td>\n",
       "      <td>3.6927</td>\n",
       "      <td>1</td>\n",
       "    </tr>\n",
       "    <tr>\n",
       "      <th>224</th>\n",
       "      <td>2014/12/3</td>\n",
       "      <td>1.4914</td>\n",
       "      <td>1</td>\n",
       "    </tr>\n",
       "    <tr>\n",
       "      <th>225</th>\n",
       "      <td>2014/12/4</td>\n",
       "      <td>4.6099</td>\n",
       "      <td>1</td>\n",
       "    </tr>\n",
       "    <tr>\n",
       "      <th>226</th>\n",
       "      <td>2014/12/5</td>\n",
       "      <td>0.6615</td>\n",
       "      <td>1</td>\n",
       "    </tr>\n",
       "    <tr>\n",
       "      <th>227</th>\n",
       "      <td>2014/12/8</td>\n",
       "      <td>4.0960</td>\n",
       "      <td>1</td>\n",
       "    </tr>\n",
       "    <tr>\n",
       "      <th>228</th>\n",
       "      <td>2014/12/9</td>\n",
       "      <td>-4.4873</td>\n",
       "      <td>0</td>\n",
       "    </tr>\n",
       "    <tr>\n",
       "      <th>229</th>\n",
       "      <td>2014/12/10</td>\n",
       "      <td>3.6896</td>\n",
       "      <td>1</td>\n",
       "    </tr>\n",
       "    <tr>\n",
       "      <th>230</th>\n",
       "      <td>2014/12/11</td>\n",
       "      <td>-1.1961</td>\n",
       "      <td>0</td>\n",
       "    </tr>\n",
       "    <tr>\n",
       "      <th>231</th>\n",
       "      <td>2014/12/12</td>\n",
       "      <td>0.3209</td>\n",
       "      <td>1</td>\n",
       "    </tr>\n",
       "    <tr>\n",
       "      <th>232</th>\n",
       "      <td>2014/12/15</td>\n",
       "      <td>0.7516</td>\n",
       "      <td>1</td>\n",
       "    </tr>\n",
       "    <tr>\n",
       "      <th>233</th>\n",
       "      <td>2014/12/16</td>\n",
       "      <td>2.6785</td>\n",
       "      <td>1</td>\n",
       "    </tr>\n",
       "    <tr>\n",
       "      <th>234</th>\n",
       "      <td>2014/12/17</td>\n",
       "      <td>1.7314</td>\n",
       "      <td>1</td>\n",
       "    </tr>\n",
       "    <tr>\n",
       "      <th>235</th>\n",
       "      <td>2014/12/18</td>\n",
       "      <td>-0.4366</td>\n",
       "      <td>0</td>\n",
       "    </tr>\n",
       "    <tr>\n",
       "      <th>236</th>\n",
       "      <td>2014/12/19</td>\n",
       "      <td>1.1130</td>\n",
       "      <td>1</td>\n",
       "    </tr>\n",
       "    <tr>\n",
       "      <th>237</th>\n",
       "      <td>2014/12/22</td>\n",
       "      <td>0.3344</td>\n",
       "      <td>1</td>\n",
       "    </tr>\n",
       "    <tr>\n",
       "      <th>238</th>\n",
       "      <td>2014/12/23</td>\n",
       "      <td>-2.0491</td>\n",
       "      <td>0</td>\n",
       "    </tr>\n",
       "    <tr>\n",
       "      <th>239</th>\n",
       "      <td>2014/12/24</td>\n",
       "      <td>-2.8433</td>\n",
       "      <td>0</td>\n",
       "    </tr>\n",
       "    <tr>\n",
       "      <th>240</th>\n",
       "      <td>2014/12/25</td>\n",
       "      <td>3.2514</td>\n",
       "      <td>1</td>\n",
       "    </tr>\n",
       "    <tr>\n",
       "      <th>241</th>\n",
       "      <td>2014/12/26</td>\n",
       "      <td>3.3105</td>\n",
       "      <td>1</td>\n",
       "    </tr>\n",
       "    <tr>\n",
       "      <th>242</th>\n",
       "      <td>2014/12/29</td>\n",
       "      <td>0.2791</td>\n",
       "      <td>1</td>\n",
       "    </tr>\n",
       "    <tr>\n",
       "      <th>243</th>\n",
       "      <td>2014/12/30</td>\n",
       "      <td>0.0607</td>\n",
       "      <td>1</td>\n",
       "    </tr>\n",
       "    <tr>\n",
       "      <th>244</th>\n",
       "      <td>2014/12/31</td>\n",
       "      <td>2.2025</td>\n",
       "      <td>1</td>\n",
       "    </tr>\n",
       "  </tbody>\n",
       "</table>\n",
       "<p>245 rows × 3 columns</p>\n",
       "</div>"
      ],
      "text/plain": [
       "           date  return  sig\n",
       "0      2014/1/2 -0.3454    0\n",
       "1      2014/1/3 -1.3436    0\n",
       "2      2014/1/6 -2.2762    0\n",
       "3      2014/1/7 -0.0284    0\n",
       "4      2014/1/8  0.1747    1\n",
       "5      2014/1/9 -0.8783    0\n",
       "6     2014/1/10 -0.7817    0\n",
       "7     2014/1/13 -0.5067    0\n",
       "8     2014/1/14  0.8737    1\n",
       "9     2014/1/15 -0.1765    0\n",
       "10    2014/1/16  0.1314    1\n",
       "11    2014/1/17 -1.5081    0\n",
       "12    2014/1/20 -0.5736    0\n",
       "13    2014/1/21  0.9888    1\n",
       "14    2014/1/22  2.5778    1\n",
       "15    2014/1/23 -0.5307    0\n",
       "16    2014/1/24  0.6178    1\n",
       "17    2014/1/27 -1.3252    0\n",
       "18    2014/1/28  0.1776    1\n",
       "19    2014/1/29  0.3571    1\n",
       "20    2014/1/30 -1.1371    0\n",
       "21     2014/2/7  0.4555    1\n",
       "22    2014/2/10  2.4882    1\n",
       "23    2014/2/11  0.7950    1\n",
       "24    2014/2/12  0.2487    1\n",
       "25    2014/2/13 -0.5103    0\n",
       "26    2014/2/14  0.7028    1\n",
       "27    2014/2/17  0.7001    1\n",
       "28    2014/2/18 -1.2634    0\n",
       "29    2014/2/19  1.1485    1\n",
       "..          ...     ...  ...\n",
       "215  2014/11/20 -0.0049    0\n",
       "216  2014/11/21  1.8271    1\n",
       "217  2014/11/24  2.5471    1\n",
       "218  2014/11/25  1.3703    1\n",
       "219  2014/11/26  1.3948    1\n",
       "220  2014/11/27  1.1558    1\n",
       "221  2014/11/28  1.9724    1\n",
       "222   2014/12/1  0.3914    1\n",
       "223   2014/12/2  3.6927    1\n",
       "224   2014/12/3  1.4914    1\n",
       "225   2014/12/4  4.6099    1\n",
       "226   2014/12/5  0.6615    1\n",
       "227   2014/12/8  4.0960    1\n",
       "228   2014/12/9 -4.4873    0\n",
       "229  2014/12/10  3.6896    1\n",
       "230  2014/12/11 -1.1961    0\n",
       "231  2014/12/12  0.3209    1\n",
       "232  2014/12/15  0.7516    1\n",
       "233  2014/12/16  2.6785    1\n",
       "234  2014/12/17  1.7314    1\n",
       "235  2014/12/18 -0.4366    0\n",
       "236  2014/12/19  1.1130    1\n",
       "237  2014/12/22  0.3344    1\n",
       "238  2014/12/23 -2.0491    0\n",
       "239  2014/12/24 -2.8433    0\n",
       "240  2014/12/25  3.2514    1\n",
       "241  2014/12/26  3.3105    1\n",
       "242  2014/12/29  0.2791    1\n",
       "243  2014/12/30  0.0607    1\n",
       "244  2014/12/31  2.2025    1\n",
       "\n",
       "[245 rows x 3 columns]"
      ]
     },
     "execution_count": 8,
     "metadata": {},
     "output_type": "execute_result"
    }
   ],
   "source": [
    "import  numpy as np\n",
    "import pandas as pd\n",
    "import matplotlib.pyplot as plt\n",
    "%matplotlib inline\n",
    "path=r\"C:\\Users\\Tsinghua-yincheng\\Desktop\\SZday79\\code\\codedata\\return300.csv\"\n",
    "Return300=pd.read_csv(path) #读取数据\n",
    "Return300"
   ]
  },
  {
   "cell_type": "code",
   "execution_count": 9,
   "metadata": {},
   "outputs": [
    {
     "data": {
      "text/plain": [
       "0   -0.3454\n",
       "1   -1.3436\n",
       "2   -2.2762\n",
       "3   -0.0284\n",
       "4    0.1747\n",
       "Name: return, dtype: float64"
      ]
     },
     "execution_count": 9,
     "metadata": {},
     "output_type": "execute_result"
    }
   ],
   "source": [
    "ret=Return300.iloc[:,1]\n",
    "ret.head()"
   ]
  },
  {
   "cell_type": "code",
   "execution_count": 10,
   "metadata": {},
   "outputs": [
    {
     "data": {
      "text/plain": [
       "0.5306122448979592"
      ]
     },
     "execution_count": 10,
     "metadata": {},
     "output_type": "execute_result"
    }
   ],
   "source": [
    "p=len(ret[ret>0])/len(ret) #上涨的概率\n",
    "p"
   ]
  },
  {
   "cell_type": "code",
   "execution_count": 11,
   "metadata": {},
   "outputs": [
    {
     "data": {
      "text/plain": [
       "0.4693877551020408"
      ]
     },
     "execution_count": 11,
     "metadata": {},
     "output_type": "execute_result"
    }
   ],
   "source": [
    "1-p"
   ]
  },
  {
   "cell_type": "code",
   "execution_count": 13,
   "metadata": {},
   "outputs": [
    {
     "data": {
      "text/plain": [
       "0.46938775510204084"
      ]
     },
     "execution_count": 13,
     "metadata": {},
     "output_type": "execute_result"
    }
   ],
   "source": [
    "p=len(ret[ret<0])/len(ret)  #下跌的概率\n",
    "p"
   ]
  },
  {
   "cell_type": "code",
   "execution_count": 14,
   "metadata": {},
   "outputs": [
    {
     "data": {
      "text/plain": [
       "0.16970271499061987"
      ]
     },
     "execution_count": 14,
     "metadata": {},
     "output_type": "execute_result"
    }
   ],
   "source": [
    "stats.binom.pmf(10,20,p)#交易20天，连续10天下跌的概率"
   ]
  },
  {
   "cell_type": "code",
   "execution_count": 15,
   "metadata": {},
   "outputs": [
    {
     "data": {
      "text/plain": [
       "0.1697027149906197"
      ]
     },
     "execution_count": 15,
     "metadata": {},
     "output_type": "execute_result"
    }
   ],
   "source": [
    "stats.binom.pmf(10,20,(1-p))"
   ]
  },
  {
   "cell_type": "code",
   "execution_count": null,
   "metadata": {},
   "outputs": [],
   "source": [
    ""
   ]
  }
 ],
 "metadata": {
  "kernelspec": {
   "display_name": "Python 3",
   "language": "python",
   "name": "python3"
  },
  "language_info": {
   "codemirror_mode": {
    "name": "ipython",
    "version": 3.0
   },
   "file_extension": ".py",
   "mimetype": "text/x-python",
   "name": "python",
   "nbconvert_exporter": "python",
   "pygments_lexer": "ipython3",
   "version": "3.6.2"
  }
 },
 "nbformat": 4,
 "nbformat_minor": 0
}
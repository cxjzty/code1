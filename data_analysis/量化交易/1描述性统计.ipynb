{
 "cells": [
  {
   "cell_type": "code",
   "execution_count": 1,
   "metadata": {},
   "outputs": [],
   "source": [
    "import  pandas as pd\n",
    "import numpy as np\n",
    "import matplotlib.pyplot as plt"
   ]
  },
  {
   "cell_type": "code",
   "execution_count": 2,
   "metadata": {},
   "outputs": [
    {
     "data": {
      "text/html": [
       "<div>\n",
       "<style>\n",
       "    .dataframe thead tr:only-child th {\n",
       "        text-align: right;\n",
       "    }\n",
       "\n",
       "    .dataframe thead th {\n",
       "        text-align: left;\n",
       "    }\n",
       "\n",
       "    .dataframe tbody tr th {\n",
       "        vertical-align: top;\n",
       "    }\n",
       "</style>\n",
       "<table border=\"1\" class=\"dataframe\">\n",
       "  <thead>\n",
       "    <tr style=\"text-align: right;\">\n",
       "      <th></th>\n",
       "      <th>Unnamed: 0</th>\n",
       "      <th>date</th>\n",
       "      <th>gsyh</th>\n",
       "      <th>pfyh</th>\n",
       "      <th>zglt</th>\n",
       "    </tr>\n",
       "  </thead>\n",
       "  <tbody>\n",
       "    <tr>\n",
       "      <th>0</th>\n",
       "      <td>2014/1/3</td>\n",
       "      <td>2014/1/3</td>\n",
       "      <td>-0.005587</td>\n",
       "      <td>0.000000</td>\n",
       "      <td>-0.018576</td>\n",
       "    </tr>\n",
       "    <tr>\n",
       "      <th>1</th>\n",
       "      <td>2014/1/6</td>\n",
       "      <td>2014/1/6</td>\n",
       "      <td>-0.002809</td>\n",
       "      <td>0.005470</td>\n",
       "      <td>-0.028391</td>\n",
       "    </tr>\n",
       "    <tr>\n",
       "      <th>2</th>\n",
       "      <td>2014/1/7</td>\n",
       "      <td>2014/1/7</td>\n",
       "      <td>0.000000</td>\n",
       "      <td>-0.005441</td>\n",
       "      <td>0.003247</td>\n",
       "    </tr>\n",
       "    <tr>\n",
       "      <th>3</th>\n",
       "      <td>2014/1/8</td>\n",
       "      <td>2014/1/8</td>\n",
       "      <td>0.005634</td>\n",
       "      <td>0.006565</td>\n",
       "      <td>-0.012945</td>\n",
       "    </tr>\n",
       "    <tr>\n",
       "      <th>4</th>\n",
       "      <td>2014/1/9</td>\n",
       "      <td>2014/1/9</td>\n",
       "      <td>-0.011204</td>\n",
       "      <td>0.009783</td>\n",
       "      <td>-0.009836</td>\n",
       "    </tr>\n",
       "  </tbody>\n",
       "</table>\n",
       "</div>"
      ],
      "text/plain": [
       "  Unnamed: 0      date      gsyh      pfyh      zglt\n",
       "0   2014/1/3  2014/1/3 -0.005587  0.000000 -0.018576\n",
       "1   2014/1/6  2014/1/6 -0.002809  0.005470 -0.028391\n",
       "2   2014/1/7  2014/1/7  0.000000 -0.005441  0.003247\n",
       "3   2014/1/8  2014/1/8  0.005634  0.006565 -0.012945\n",
       "4   2014/1/9  2014/1/9 -0.011204  0.009783 -0.009836"
      ]
     },
     "execution_count": 2,
     "metadata": {},
     "output_type": "execute_result"
    }
   ],
   "source": [
    "path=r\"retdata.csv\"\n",
    "returns=pd.read_csv(path)\n",
    "returns.head()"
   ]
  },
  {
   "cell_type": "code",
   "execution_count": 3,
   "metadata": {},
   "outputs": [],
   "source": [
    "gsyh=returns[\"gsyh\"]  #取出工商银行数据"
   ]
  },
  {
   "cell_type": "code",
   "execution_count": 4,
   "metadata": {},
   "outputs": [
    {
     "data": {
      "text/plain": [
       "0   -0.005587\n",
       "1   -0.002809\n",
       "2    0.000000\n",
       "3    0.005634\n",
       "4   -0.011204\n",
       "Name: gsyh, dtype: float64"
      ]
     },
     "execution_count": 4,
     "metadata": {},
     "output_type": "execute_result"
    }
   ],
   "source": [
    "gsyh.head() #查看前半部"
   ]
  },
  {
   "cell_type": "code",
   "execution_count": 5,
   "metadata": {},
   "outputs": [
    {
     "data": {
      "text/plain": [
       "(array([   1.,    1.,    1.,    2.,   21.,  178.,   42.,    6.,    4.,    2.]),\n",
       " array([-0.09287257, -0.07609117, -0.05930977, -0.04252836, -0.02574696,\n",
       "        -0.00896556,  0.00781584,  0.02459725,  0.04137865,  0.05816005,\n",
       "         0.07494145]),\n",
       " <a list of 10 Patch objects>)"
      ]
     },
     "execution_count": 5,
     "metadata": {},
     "output_type": "execute_result"
    }
   ],
   "source": [
    "plt.hist(gsyh) #返回数据"
   ]
  },
  {
   "cell_type": "code",
   "execution_count": 6,
   "metadata": {},
   "outputs": [
    {
     "data": {
      "text/plain": [
       "0     -0.005587\n",
       "1     -0.002809\n",
       "2      0.000000\n",
       "3      0.005634\n",
       "4     -0.011204\n",
       "5      0.000000\n",
       "6      0.002833\n",
       "7     -0.005650\n",
       "8     -0.017045\n",
       "9     -0.008671\n",
       "10    -0.005831\n",
       "11    -0.002933\n",
       "12     0.000000\n",
       "13     0.008824\n",
       "14    -0.008746\n",
       "15     0.000000\n",
       "16    -0.011765\n",
       "17     0.008929\n",
       "18     0.014749\n",
       "19    -0.008721\n",
       "20     0.000000\n",
       "21     0.000000\n",
       "22     0.000000\n",
       "23     0.000000\n",
       "24    -0.002933\n",
       "25     0.005882\n",
       "26     0.008772\n",
       "27    -0.002899\n",
       "28     0.000000\n",
       "29    -0.002907\n",
       "         ...   \n",
       "228   -0.002710\n",
       "229    0.013587\n",
       "230    0.000000\n",
       "231    0.010724\n",
       "232    0.013263\n",
       "233    0.002618\n",
       "234    0.054830\n",
       "235   -0.007426\n",
       "236    0.042394\n",
       "237   -0.019139\n",
       "238    0.041463\n",
       "239    0.074941\n",
       "240    0.008715\n",
       "241   -0.092873\n",
       "242    0.023810\n",
       "243   -0.023256\n",
       "244    0.002381\n",
       "245   -0.019002\n",
       "246    0.029056\n",
       "247    0.051765\n",
       "248   -0.026846\n",
       "249    0.013793\n",
       "250    0.068027\n",
       "251   -0.048832\n",
       "252   -0.033482\n",
       "253    0.030023\n",
       "254    0.035874\n",
       "255   -0.002165\n",
       "256    0.021692\n",
       "257    0.033970\n",
       "Name: gsyh, Length: 258, dtype: float64"
      ]
     },
     "execution_count": 6,
     "metadata": {},
     "output_type": "execute_result"
    }
   ],
   "source": [
    "gsyh"
   ]
  },
  {
   "cell_type": "code",
   "execution_count": 7,
   "metadata": {},
   "outputs": [
    {
     "data": {
      "text/plain": [
       "<matplotlib.axes._subplots.AxesSubplot at 0x82db749470>"
      ]
     },
     "execution_count": 7,
     "metadata": {},
     "output_type": "execute_result"
    }
   ],
   "source": [
    "gsyh.plot()"
   ]
  },
  {
   "cell_type": "code",
   "execution_count": 8,
   "metadata": {},
   "outputs": [],
   "source": [
    "%matplotlib  inline"
   ]
  },
  {
   "cell_type": "code",
   "execution_count": 9,
   "metadata": {},
   "outputs": [
    {
     "data": {
      "text/plain": [
       "<matplotlib.axes._subplots.AxesSubplot at 0x82db880a90>"
      ]
     },
     "execution_count": 9,
     "metadata": {},
     "output_type": "execute_result"
    },
    {
     "data": {
      "image/png": "[encoded data removed]",
      "text/plain": [
       "<matplotlib.figure.Figure at 0x82db888160>"
      ]
     },
     "metadata": {},
     "output_type": "display_data"
    }
   ],
   "source": [
    "gsyh.plot()"
   ]
  },
  {
   "cell_type": "code",
   "execution_count": 10,
   "metadata": {},
   "outputs": [
    {
     "data": {
      "text/plain": [
       "(array([   1.,    1.,    1.,    2.,   21.,  178.,   42.,    6.,    4.,    2.]),\n",
       " array([-0.09287257, -0.07609117, -0.05930977, -0.04252836, -0.02574696,\n",
       "        -0.00896556,  0.00781584,  0.02459725,  0.04137865,  0.05816005,\n",
       "         0.07494145]),\n",
       " <a list of 10 Patch objects>)"
      ]
     },
     "execution_count": 10,
     "metadata": {},
     "output_type": "execute_result"
    },
    {
     "data": {
      "image/png": "[encoded data removed]",
      "text/plain": [
       "<matplotlib.figure.Figure at 0x82dd6e32e8>"
      ]
     },
     "metadata": {},
     "output_type": "display_data"
    }
   ],
   "source": [
    "plt.hist(gsyh) #返回数据"
   ]
  },
  {
   "cell_type": "code",
   "execution_count": 11,
   "metadata": {},
   "outputs": [
    {
     "data": {
      "text/plain": [
       "0.0013099107790697675"
      ]
     },
     "execution_count": 11,
     "metadata": {},
     "output_type": "execute_result"
    }
   ],
   "source": [
    "returns[\"gsyh\"].mean() #平均数"
   ]
  },
  {
   "cell_type": "code",
   "execution_count": 12,
   "metadata": {},
   "outputs": [
    {
     "data": {
      "text/plain": [
       "0.0022648093178294572"
      ]
     },
     "execution_count": 12,
     "metadata": {},
     "output_type": "execute_result"
    }
   ],
   "source": [
    "returns[\"pfyh\"].mean()"
   ]
  },
  {
   "cell_type": "code",
   "execution_count": 13,
   "metadata": {},
   "outputs": [
    {
     "data": {
      "text/plain": [
       "0.0"
      ]
     },
     "execution_count": 13,
     "metadata": {},
     "output_type": "execute_result"
    }
   ],
   "source": [
    "returns[\"pfyh\"].median() #中位数"
   ]
  },
  {
   "cell_type": "code",
   "execution_count": 14,
   "metadata": {},
   "outputs": [
    {
     "data": {
      "text/plain": [
       "0    0.0\n",
       "dtype: float64"
      ]
     },
     "execution_count": 14,
     "metadata": {},
     "output_type": "execute_result"
    }
   ],
   "source": [
    "returns[\"pfyh\"].mode()#出现最多的数，众数"
   ]
  },
  {
   "cell_type": "code",
   "execution_count": 16,
   "metadata": {},
   "outputs": [
    {
     "data": {
      "text/plain": [
       "[-0.006525337500000001, 0.0, 0.008766644]"
      ]
     },
     "execution_count": 16,
     "metadata": {},
     "output_type": "execute_result"
    }
   ],
   "source": [
    "[returns.zglt.quantile(i) for i in  [0.25,0.5,0.75]]"
   ]
  },
  {
   "cell_type": "code",
   "execution_count": 17,
   "metadata": {},
   "outputs": [
    {
     "data": {
      "text/plain": [
       "0.006527514499999998"
      ]
     },
     "execution_count": 17,
     "metadata": {},
     "output_type": "execute_result"
    }
   ],
   "source": [
    "returns.zglt.quantile(0.7) #根据百分比取出数据估值"
   ]
  },
  {
   "cell_type": "code",
   "execution_count": 19,
   "metadata": {},
   "outputs": [
    {
     "data": {
      "text/plain": [
       "0.074941452000000006"
      ]
     },
     "execution_count": 19,
     "metadata": {},
     "output_type": "execute_result"
    }
   ],
   "source": [
    "returns[\"gsyh\"].max()  #取出极大值"
   ]
  },
  {
   "cell_type": "code",
   "execution_count": 20,
   "metadata": {},
   "outputs": [
    {
     "data": {
      "text/plain": [
       "-0.092872570000000002"
      ]
     },
     "execution_count": 20,
     "metadata": {},
     "output_type": "execute_result"
    }
   ],
   "source": [
    "returns[\"gsyh\"].min()#极小值"
   ]
  },
  {
   "cell_type": "code",
   "execution_count": 21,
   "metadata": {},
   "outputs": [
    {
     "data": {
      "text/plain": [
       "0.0152786297925774"
      ]
     },
     "execution_count": 21,
     "metadata": {},
     "output_type": "execute_result"
    }
   ],
   "source": [
    "returns[\"gsyh\"].std() #标准差"
   ]
  },
  {
   "cell_type": "code",
   "execution_count": 22,
   "metadata": {},
   "outputs": [
    {
     "data": {
      "text/plain": [
       "0.16781402200000001"
      ]
     },
     "execution_count": 22,
     "metadata": {},
     "output_type": "execute_result"
    }
   ],
   "source": [
    "returns[\"gsyh\"].max() -returns[\"gsyh\"].min() #极差"
   ]
  },
  {
   "cell_type": "code",
   "execution_count": 23,
   "metadata": {},
   "outputs": [
    {
     "data": {
      "text/plain": [
       "0.0090792409524067062"
      ]
     },
     "execution_count": 23,
     "metadata": {},
     "output_type": "execute_result"
    }
   ],
   "source": [
    "returns[\"gsyh\"].mad() #平均绝对偏差"
   ]
  },
  {
   "cell_type": "code",
   "execution_count": 24,
   "metadata": {},
   "outputs": [
    {
     "data": {
      "text/plain": [
       "0.0002334365283386337"
      ]
     },
     "execution_count": 24,
     "metadata": {},
     "output_type": "execute_result"
    }
   ],
   "source": [
    "returns[\"gsyh\"].var()#方差"
   ]
  },
  {
   "cell_type": "code",
   "execution_count": null,
   "metadata": {},
   "outputs": [],
   "source": [
    ""
   ]
  }
 ],
 "metadata": {
  "kernelspec": {
   "display_name": "Python 3",
   "language": "python",
   "name": "python3"
  },
  "language_info": {
   "codemirror_mode": {
    "name": "ipython",
    "version": 3.0
   },
   "file_extension": ".py",
   "mimetype": "text/x-python",
   "name": "python",
   "nbconvert_exporter": "python",
   "pygments_lexer": "ipython3",
   "version": "3.6.2"
  }
 },
 "nbformat": 4,
 "nbformat_minor": 0
}
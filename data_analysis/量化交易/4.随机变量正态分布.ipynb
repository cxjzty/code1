{
 "cells": [
  {
   "cell_type": "code",
   "execution_count": 1,
   "metadata": {},
   "outputs": [],
   "source": [
    "import  numpy as np"
   ]
  },
  {
   "cell_type": "code",
   "execution_count": 2,
   "metadata": {},
   "outputs": [],
   "source": [
    "Normal=np.random.normal(size=15)"
   ]
  },
  {
   "cell_type": "code",
   "execution_count": 3,
   "metadata": {},
   "outputs": [
    {
     "data": {
      "text/plain": [
       "array([-0.99281434,  1.71347238, -0.70491215, -0.19593888, -0.45910435,\n",
       "        0.64557703, -0.50591047, -0.12930176,  0.58913069,  1.23261979,\n",
       "        1.93235911,  0.91413595, -0.91806757, -0.80434847, -1.31462455])"
      ]
     },
     "execution_count": 3,
     "metadata": {},
     "output_type": "execute_result"
    }
   ],
   "source": [
    "Normal  #正态分布的15个数"
   ]
  },
  {
   "cell_type": "code",
   "execution_count": 4,
   "metadata": {},
   "outputs": [
    {
     "data": {
      "text/plain": [
       "array([ 0.12922603,  0.915237  ,  0.37680867,  1.35692316,  0.41481098,\n",
       "       -0.46535962, -0.60414585, -1.68714633])"
      ]
     },
     "execution_count": 4,
     "metadata": {},
     "output_type": "execute_result"
    }
   ],
   "source": [
    "Normal=np.random.normal(size=8)\n",
    "Normal"
   ]
  },
  {
   "cell_type": "code",
   "execution_count": 5,
   "metadata": {},
   "outputs": [
    {
     "data": {
      "text/plain": [
       "array([ 0.39562511,  0.26243078,  0.37160236,  0.15888752,  0.36605466,\n",
       "        0.35800142,  0.33239388,  0.09611884])"
      ]
     },
     "execution_count": 5,
     "metadata": {},
     "output_type": "execute_result"
    }
   ],
   "source": [
    "from scipy import stats\n",
    "stats.norm.pdf(Normal ) #计算随机数的密度"
   ]
  },
  {
   "cell_type": "code",
   "execution_count": 6,
   "metadata": {},
   "outputs": [
    {
     "data": {
      "text/plain": [
       "array([ 0.5514106 ,  0.81996639,  0.6468421 ,  0.91259719,  0.66085986,\n",
       "        0.32083697,  0.27287334,  0.04578761])"
      ]
     },
     "execution_count": 6,
     "metadata": {},
     "output_type": "execute_result"
    }
   ],
   "source": [
    "from scipy import stats\n",
    "stats.norm.cdf(Normal ) #计算随机数的密度"
   ]
  },
  {
   "cell_type": "code",
   "execution_count": 7,
   "metadata": {},
   "outputs": [
    {
     "data": {
      "text/html": [
       "<div>\n",
       "<style>\n",
       "    .dataframe thead tr:only-child th {\n",
       "        text-align: right;\n",
       "    }\n",
       "\n",
       "    .dataframe thead th {\n",
       "        text-align: left;\n",
       "    }\n",
       "\n",
       "    .dataframe tbody tr th {\n",
       "        vertical-align: top;\n",
       "    }\n",
       "</style>\n",
       "<table border=\"1\" class=\"dataframe\">\n",
       "  <thead>\n",
       "    <tr style=\"text-align: right;\">\n",
       "      <th></th>\n",
       "      <th>date</th>\n",
       "      <th>return</th>\n",
       "      <th>sig</th>\n",
       "    </tr>\n",
       "  </thead>\n",
       "  <tbody>\n",
       "    <tr>\n",
       "      <th>0</th>\n",
       "      <td>2014/1/2</td>\n",
       "      <td>-0.3454</td>\n",
       "      <td>0</td>\n",
       "    </tr>\n",
       "    <tr>\n",
       "      <th>1</th>\n",
       "      <td>2014/1/3</td>\n",
       "      <td>-1.3436</td>\n",
       "      <td>0</td>\n",
       "    </tr>\n",
       "    <tr>\n",
       "      <th>2</th>\n",
       "      <td>2014/1/6</td>\n",
       "      <td>-2.2762</td>\n",
       "      <td>0</td>\n",
       "    </tr>\n",
       "    <tr>\n",
       "      <th>3</th>\n",
       "      <td>2014/1/7</td>\n",
       "      <td>-0.0284</td>\n",
       "      <td>0</td>\n",
       "    </tr>\n",
       "    <tr>\n",
       "      <th>4</th>\n",
       "      <td>2014/1/8</td>\n",
       "      <td>0.1747</td>\n",
       "      <td>1</td>\n",
       "    </tr>\n",
       "    <tr>\n",
       "      <th>5</th>\n",
       "      <td>2014/1/9</td>\n",
       "      <td>-0.8783</td>\n",
       "      <td>0</td>\n",
       "    </tr>\n",
       "    <tr>\n",
       "      <th>6</th>\n",
       "      <td>2014/1/10</td>\n",
       "      <td>-0.7817</td>\n",
       "      <td>0</td>\n",
       "    </tr>\n",
       "    <tr>\n",
       "      <th>7</th>\n",
       "      <td>2014/1/13</td>\n",
       "      <td>-0.5067</td>\n",
       "      <td>0</td>\n",
       "    </tr>\n",
       "    <tr>\n",
       "      <th>8</th>\n",
       "      <td>2014/1/14</td>\n",
       "      <td>0.8737</td>\n",
       "      <td>1</td>\n",
       "    </tr>\n",
       "    <tr>\n",
       "      <th>9</th>\n",
       "      <td>2014/1/15</td>\n",
       "      <td>-0.1765</td>\n",
       "      <td>0</td>\n",
       "    </tr>\n",
       "    <tr>\n",
       "      <th>10</th>\n",
       "      <td>2014/1/16</td>\n",
       "      <td>0.1314</td>\n",
       "      <td>1</td>\n",
       "    </tr>\n",
       "    <tr>\n",
       "      <th>11</th>\n",
       "      <td>2014/1/17</td>\n",
       "      <td>-1.5081</td>\n",
       "      <td>0</td>\n",
       "    </tr>\n",
       "    <tr>\n",
       "      <th>12</th>\n",
       "      <td>2014/1/20</td>\n",
       "      <td>-0.5736</td>\n",
       "      <td>0</td>\n",
       "    </tr>\n",
       "    <tr>\n",
       "      <th>13</th>\n",
       "      <td>2014/1/21</td>\n",
       "      <td>0.9888</td>\n",
       "      <td>1</td>\n",
       "    </tr>\n",
       "    <tr>\n",
       "      <th>14</th>\n",
       "      <td>2014/1/22</td>\n",
       "      <td>2.5778</td>\n",
       "      <td>1</td>\n",
       "    </tr>\n",
       "    <tr>\n",
       "      <th>15</th>\n",
       "      <td>2014/1/23</td>\n",
       "      <td>-0.5307</td>\n",
       "      <td>0</td>\n",
       "    </tr>\n",
       "    <tr>\n",
       "      <th>16</th>\n",
       "      <td>2014/1/24</td>\n",
       "      <td>0.6178</td>\n",
       "      <td>1</td>\n",
       "    </tr>\n",
       "    <tr>\n",
       "      <th>17</th>\n",
       "      <td>2014/1/27</td>\n",
       "      <td>-1.3252</td>\n",
       "      <td>0</td>\n",
       "    </tr>\n",
       "    <tr>\n",
       "      <th>18</th>\n",
       "      <td>2014/1/28</td>\n",
       "      <td>0.1776</td>\n",
       "      <td>1</td>\n",
       "    </tr>\n",
       "    <tr>\n",
       "      <th>19</th>\n",
       "      <td>2014/1/29</td>\n",
       "      <td>0.3571</td>\n",
       "      <td>1</td>\n",
       "    </tr>\n",
       "    <tr>\n",
       "      <th>20</th>\n",
       "      <td>2014/1/30</td>\n",
       "      <td>-1.1371</td>\n",
       "      <td>0</td>\n",
       "    </tr>\n",
       "    <tr>\n",
       "      <th>21</th>\n",
       "      <td>2014/2/7</td>\n",
       "      <td>0.4555</td>\n",
       "      <td>1</td>\n",
       "    </tr>\n",
       "    <tr>\n",
       "      <th>22</th>\n",
       "      <td>2014/2/10</td>\n",
       "      <td>2.4882</td>\n",
       "      <td>1</td>\n",
       "    </tr>\n",
       "    <tr>\n",
       "      <th>23</th>\n",
       "      <td>2014/2/11</td>\n",
       "      <td>0.7950</td>\n",
       "      <td>1</td>\n",
       "    </tr>\n",
       "    <tr>\n",
       "      <th>24</th>\n",
       "      <td>2014/2/12</td>\n",
       "      <td>0.2487</td>\n",
       "      <td>1</td>\n",
       "    </tr>\n",
       "    <tr>\n",
       "      <th>25</th>\n",
       "      <td>2014/2/13</td>\n",
       "      <td>-0.5103</td>\n",
       "      <td>0</td>\n",
       "    </tr>\n",
       "    <tr>\n",
       "      <th>26</th>\n",
       "      <td>2014/2/14</td>\n",
       "      <td>0.7028</td>\n",
       "      <td>1</td>\n",
       "    </tr>\n",
       "    <tr>\n",
       "      <th>27</th>\n",
       "      <td>2014/2/17</td>\n",
       "      <td>0.7001</td>\n",
       "      <td>1</td>\n",
       "    </tr>\n",
       "    <tr>\n",
       "      <th>28</th>\n",
       "      <td>2014/2/18</td>\n",
       "      <td>-1.2634</td>\n",
       "      <td>0</td>\n",
       "    </tr>\n",
       "    <tr>\n",
       "      <th>29</th>\n",
       "      <td>2014/2/19</td>\n",
       "      <td>1.1485</td>\n",
       "      <td>1</td>\n",
       "    </tr>\n",
       "    <tr>\n",
       "      <th>...</th>\n",
       "      <td>...</td>\n",
       "      <td>...</td>\n",
       "      <td>...</td>\n",
       "    </tr>\n",
       "    <tr>\n",
       "      <th>215</th>\n",
       "      <td>2014/11/20</td>\n",
       "      <td>-0.0049</td>\n",
       "      <td>0</td>\n",
       "    </tr>\n",
       "    <tr>\n",
       "      <th>216</th>\n",
       "      <td>2014/11/21</td>\n",
       "      <td>1.8271</td>\n",
       "      <td>1</td>\n",
       "    </tr>\n",
       "    <tr>\n",
       "      <th>217</th>\n",
       "      <td>2014/11/24</td>\n",
       "      <td>2.5471</td>\n",
       "      <td>1</td>\n",
       "    </tr>\n",
       "    <tr>\n",
       "      <th>218</th>\n",
       "      <td>2014/11/25</td>\n",
       "      <td>1.3703</td>\n",
       "      <td>1</td>\n",
       "    </tr>\n",
       "    <tr>\n",
       "      <th>219</th>\n",
       "      <td>2014/11/26</td>\n",
       "      <td>1.3948</td>\n",
       "      <td>1</td>\n",
       "    </tr>\n",
       "    <tr>\n",
       "      <th>220</th>\n",
       "      <td>2014/11/27</td>\n",
       "      <td>1.1558</td>\n",
       "      <td>1</td>\n",
       "    </tr>\n",
       "    <tr>\n",
       "      <th>221</th>\n",
       "      <td>2014/11/28</td>\n",
       "      <td>1.9724</td>\n",
       "      <td>1</td>\n",
       "    </tr>\n",
       "    <tr>\n",
       "      <th>222</th>\n",
       "      <td>2014/12/1</td>\n",
       "      <td>0.3914</td>\n",
       "      <td>1</td>\n",
       "    </tr>\n",
       "    <tr>\n",
       "      <th>223</th>\n",
       "      <td>2014/12/2</td>\n",
       "      <td>3.6927</td>\n",
       "      <td>1</td>\n",
       "    </tr>\n",
       "    <tr>\n",
       "      <th>224</th>\n",
       "      <td>2014/12/3</td>\n",
       "      <td>1.4914</td>\n",
       "      <td>1</td>\n",
       "    </tr>\n",
       "    <tr>\n",
       "      <th>225</th>\n",
       "      <td>2014/12/4</td>\n",
       "      <td>4.6099</td>\n",
       "      <td>1</td>\n",
       "    </tr>\n",
       "    <tr>\n",
       "      <th>226</th>\n",
       "      <td>2014/12/5</td>\n",
       "      <td>0.6615</td>\n",
       "      <td>1</td>\n",
       "    </tr>\n",
       "    <tr>\n",
       "      <th>227</th>\n",
       "      <td>2014/12/8</td>\n",
       "      <td>4.0960</td>\n",
       "      <td>1</td>\n",
       "    </tr>\n",
       "    <tr>\n",
       "      <th>228</th>\n",
       "      <td>2014/12/9</td>\n",
       "      <td>-4.4873</td>\n",
       "      <td>0</td>\n",
       "    </tr>\n",
       "    <tr>\n",
       "      <th>229</th>\n",
       "      <td>2014/12/10</td>\n",
       "      <td>3.6896</td>\n",
       "      <td>1</td>\n",
       "    </tr>\n",
       "    <tr>\n",
       "      <th>230</th>\n",
       "      <td>2014/12/11</td>\n",
       "      <td>-1.1961</td>\n",
       "      <td>0</td>\n",
       "    </tr>\n",
       "    <tr>\n",
       "      <th>231</th>\n",
       "      <td>2014/12/12</td>\n",
       "      <td>0.3209</td>\n",
       "      <td>1</td>\n",
       "    </tr>\n",
       "    <tr>\n",
       "      <th>232</th>\n",
       "      <td>2014/12/15</td>\n",
       "      <td>0.7516</td>\n",
       "      <td>1</td>\n",
       "    </tr>\n",
       "    <tr>\n",
       "      <th>233</th>\n",
       "      <td>2014/12/16</td>\n",
       "      <td>2.6785</td>\n",
       "      <td>1</td>\n",
       "    </tr>\n",
       "    <tr>\n",
       "      <th>234</th>\n",
       "      <td>2014/12/17</td>\n",
       "      <td>1.7314</td>\n",
       "      <td>1</td>\n",
       "    </tr>\n",
       "    <tr>\n",
       "      <th>235</th>\n",
       "      <td>2014/12/18</td>\n",
       "      <td>-0.4366</td>\n",
       "      <td>0</td>\n",
       "    </tr>\n",
       "    <tr>\n",
       "      <th>236</th>\n",
       "      <td>2014/12/19</td>\n",
       "      <td>1.1130</td>\n",
       "      <td>1</td>\n",
       "    </tr>\n",
       "    <tr>\n",
       "      <th>237</th>\n",
       "      <td>2014/12/22</td>\n",
       "      <td>0.3344</td>\n",
       "      <td>1</td>\n",
       "    </tr>\n",
       "    <tr>\n",
       "      <th>238</th>\n",
       "      <td>2014/12/23</td>\n",
       "      <td>-2.0491</td>\n",
       "      <td>0</td>\n",
       "    </tr>\n",
       "    <tr>\n",
       "      <th>239</th>\n",
       "      <td>2014/12/24</td>\n",
       "      <td>-2.8433</td>\n",
       "      <td>0</td>\n",
       "    </tr>\n",
       "    <tr>\n",
       "      <th>240</th>\n",
       "      <td>2014/12/25</td>\n",
       "      <td>3.2514</td>\n",
       "      <td>1</td>\n",
       "    </tr>\n",
       "    <tr>\n",
       "      <th>241</th>\n",
       "      <td>2014/12/26</td>\n",
       "      <td>3.3105</td>\n",
       "      <td>1</td>\n",
       "    </tr>\n",
       "    <tr>\n",
       "      <th>242</th>\n",
       "      <td>2014/12/29</td>\n",
       "      <td>0.2791</td>\n",
       "      <td>1</td>\n",
       "    </tr>\n",
       "    <tr>\n",
       "      <th>243</th>\n",
       "      <td>2014/12/30</td>\n",
       "      <td>0.0607</td>\n",
       "      <td>1</td>\n",
       "    </tr>\n",
       "    <tr>\n",
       "      <th>244</th>\n",
       "      <td>2014/12/31</td>\n",
       "      <td>2.2025</td>\n",
       "      <td>1</td>\n",
       "    </tr>\n",
       "  </tbody>\n",
       "</table>\n",
       "<p>245 rows × 3 columns</p>\n",
       "</div>"
      ],
      "text/plain": [
       "           date  return  sig\n",
       "0      2014/1/2 -0.3454    0\n",
       "1      2014/1/3 -1.3436    0\n",
       "2      2014/1/6 -2.2762    0\n",
       "3      2014/1/7 -0.0284    0\n",
       "4      2014/1/8  0.1747    1\n",
       "5      2014/1/9 -0.8783    0\n",
       "6     2014/1/10 -0.7817    0\n",
       "7     2014/1/13 -0.5067    0\n",
       "8     2014/1/14  0.8737    1\n",
       "9     2014/1/15 -0.1765    0\n",
       "10    2014/1/16  0.1314    1\n",
       "11    2014/1/17 -1.5081    0\n",
       "12    2014/1/20 -0.5736    0\n",
       "13    2014/1/21  0.9888    1\n",
       "14    2014/1/22  2.5778    1\n",
       "15    2014/1/23 -0.5307    0\n",
       "16    2014/1/24  0.6178    1\n",
       "17    2014/1/27 -1.3252    0\n",
       "18    2014/1/28  0.1776    1\n",
       "19    2014/1/29  0.3571    1\n",
       "20    2014/1/30 -1.1371    0\n",
       "21     2014/2/7  0.4555    1\n",
       "22    2014/2/10  2.4882    1\n",
       "23    2014/2/11  0.7950    1\n",
       "24    2014/2/12  0.2487    1\n",
       "25    2014/2/13 -0.5103    0\n",
       "26    2014/2/14  0.7028    1\n",
       "27    2014/2/17  0.7001    1\n",
       "28    2014/2/18 -1.2634    0\n",
       "29    2014/2/19  1.1485    1\n",
       "..          ...     ...  ...\n",
       "215  2014/11/20 -0.0049    0\n",
       "216  2014/11/21  1.8271    1\n",
       "217  2014/11/24  2.5471    1\n",
       "218  2014/11/25  1.3703    1\n",
       "219  2014/11/26  1.3948    1\n",
       "220  2014/11/27  1.1558    1\n",
       "221  2014/11/28  1.9724    1\n",
       "222   2014/12/1  0.3914    1\n",
       "223   2014/12/2  3.6927    1\n",
       "224   2014/12/3  1.4914    1\n",
       "225   2014/12/4  4.6099    1\n",
       "226   2014/12/5  0.6615    1\n",
       "227   2014/12/8  4.0960    1\n",
       "228   2014/12/9 -4.4873    0\n",
       "229  2014/12/10  3.6896    1\n",
       "230  2014/12/11 -1.1961    0\n",
       "231  2014/12/12  0.3209    1\n",
       "232  2014/12/15  0.7516    1\n",
       "233  2014/12/16  2.6785    1\n",
       "234  2014/12/17  1.7314    1\n",
       "235  2014/12/18 -0.4366    0\n",
       "236  2014/12/19  1.1130    1\n",
       "237  2014/12/22  0.3344    1\n",
       "238  2014/12/23 -2.0491    0\n",
       "239  2014/12/24 -2.8433    0\n",
       "240  2014/12/25  3.2514    1\n",
       "241  2014/12/26  3.3105    1\n",
       "242  2014/12/29  0.2791    1\n",
       "243  2014/12/30  0.0607    1\n",
       "244  2014/12/31  2.2025    1\n",
       "\n",
       "[245 rows x 3 columns]"
      ]
     },
     "execution_count": 7,
     "metadata": {},
     "output_type": "execute_result"
    }
   ],
   "source": [
    "import  numpy as np\n",
    "import pandas as pd\n",
    "import matplotlib.pyplot as plt\n",
    "%matplotlib inline\n",
    "path=r\"C:\\Users\\Tsinghua-yincheng\\Desktop\\SZday79\\code\\codedata\\return300.csv\"\n",
    "Return300=pd.read_csv(path) #读取数据\n",
    "Return300"
   ]
  },
  {
   "cell_type": "code",
   "execution_count": 8,
   "metadata": {},
   "outputs": [
    {
     "data": {
      "text/plain": [
       "0   -0.3454\n",
       "1   -1.3436\n",
       "2   -2.2762\n",
       "3   -0.0284\n",
       "4    0.1747\n",
       "Name: return, dtype: float64"
      ]
     },
     "execution_count": 8,
     "metadata": {},
     "output_type": "execute_result"
    }
   ],
   "source": [
    "ret=Return300.iloc[:,1] #假定数据属于正态分布\n",
    "ret.head()"
   ]
  },
  {
   "cell_type": "code",
   "execution_count": 11,
   "metadata": {},
   "outputs": [
    {
     "data": {
      "text/plain": [
       "0.1774236734693877"
      ]
     },
     "execution_count": 11,
     "metadata": {},
     "output_type": "execute_result"
    }
   ],
   "source": [
    "HS300_retmen=ret.mean()#均值\n",
    "HS300_retmen"
   ]
  },
  {
   "cell_type": "code",
   "execution_count": 12,
   "metadata": {},
   "outputs": [
    {
     "data": {
      "text/plain": [
       "1.471205934847106"
      ]
     },
     "execution_count": 12,
     "metadata": {},
     "output_type": "execute_result"
    }
   ],
   "source": [
    "HS300_retvar=ret.var()#方差\n",
    "HS300_retvar"
   ]
  },
  {
   "cell_type": "code",
   "execution_count": 13,
   "metadata": {},
   "outputs": [
    {
     "data": {
      "text/plain": [
       "0.32709718873189186"
      ]
     },
     "execution_count": 13,
     "metadata": {},
     "output_type": "execute_result"
    }
   ],
   "source": [
    "stats.norm.pdf(0.05,HS300_retmen,HS300_retvar**0.5) #计算正态分布"
   ]
  },
  {
   "cell_type": "code",
   "execution_count": 14,
   "metadata": {},
   "outputs": [
    {
     "data": {
      "text/plain": [
       "0.26851949419703119"
      ]
     },
     "execution_count": 14,
     "metadata": {},
     "output_type": "execute_result"
    }
   ],
   "source": [
    "stats.norm.pdf(0.95,HS300_retmen,HS300_retvar**0.5)"
   ]
  },
  {
   "cell_type": "code",
   "execution_count": 15,
   "metadata": {},
   "outputs": [
    {
     "data": {
      "text/plain": [
       "0.31747895109673391"
      ]
     },
     "execution_count": 15,
     "metadata": {},
     "output_type": "execute_result"
    }
   ],
   "source": [
    "stats.norm.pdf(0.5,HS300_retmen,HS300_retvar**0.5)"
   ]
  },
  {
   "cell_type": "code",
   "execution_count": null,
   "metadata": {},
   "outputs": [],
   "source": [
    ""
   ]
  }
 ],
 "metadata": {
  "kernelspec": {
   "display_name": "Python 3",
   "language": "python",
   "name": "python3"
  },
  "language_info": {
   "codemirror_mode": {
    "name": "ipython",
    "version": 3.0
   },
   "file_extension": ".py",
   "mimetype": "text/x-python",
   "name": "python",
   "nbconvert_exporter": "python",
   "pygments_lexer": "ipython3",
   "version": "3.6.2"
  }
 },
 "nbformat": 4,
 "nbformat_minor": 0
}